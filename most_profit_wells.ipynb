{
 "cells": [
  {
   "cell_type": "markdown",
   "metadata": {},
   "source": [
    "<h1>Содержание<span class=\"tocSkip\"></span></h1>\n",
    "<li>Подготовка данных</li>\n",
    "<li>Обучение и проверка модели</li>\n",
    "<li>Подготовка к расчёту прибыли</li>\n",
    "<li>Расчёт прибыли и рисков</li>\n",
    "<li>Вывод</li>\n"
   ]
  },
  {
   "cell_type": "markdown",
   "metadata": {},
   "source": [
    "# Выбор локации для скважины"
   ]
  },
  {
   "cell_type": "markdown",
   "metadata": {},
   "source": [
    "В рамках данного проекта нужно решить, где бурить новую скважину.\n",
    "\n",
    "Для анализа предоставлены объемы нефти в трёх регионах: в каждом 10 000 месторождений, где измерили качество нефти и объём её запасов. Необходимо построить модель машинного обучения, которая поможет определить регион, где добыча принесёт наибольшую прибыль и проанализировать возможную прибыль и риски техникой *Bootstrap.*\n",
    "\n",
    "Шаги для выбора локации:\n",
    "\n",
    "- В избранном регионе ищут месторождения, для каждого определяют значения признаков;\n",
    "- Строят модель и оценивают объём запасов;\n",
    "- Выбирают месторождения с самым высокими оценками значений. Количество месторождений зависит от бюджета компании и стоимости разработки одной скважины;\n",
    "- Прибыль равна суммарной прибыли отобранных месторождений."
   ]
  },
  {
   "cell_type": "markdown",
   "metadata": {},
   "source": [
    "**Каждая таблица - данные геологоразведки по одному региону**\n",
    "\n",
    "**Таблицы содержат следующие поля:**\n",
    "\n",
    "* `id` - уникальный идентификатор скважины\n",
    "\n",
    "* `f0`,`f1`,`f2` - признаки точек\n",
    "\n",
    "* `product` - объём запасов в скважине (тыс. баррелей)"
   ]
  },
  {
   "cell_type": "markdown",
   "metadata": {},
   "source": [
    "## Подготовка данных"
   ]
  },
  {
   "cell_type": "code",
   "execution_count": 1,
   "metadata": {},
   "outputs": [],
   "source": [
    "import pandas as pd\n",
    "from sklearn.linear_model import LinearRegression\n",
    "from sklearn.model_selection import train_test_split\n",
    "from sklearn.metrics import mean_squared_error\n",
    "import math\n",
    "import random\n",
    "import numpy as np"
   ]
  },
  {
   "cell_type": "code",
   "execution_count": 2,
   "metadata": {
    "scrolled": false
   },
   "outputs": [
    {
     "data": {
      "text/html": [
       "<div>\n",
       "<style scoped>\n",
       "    .dataframe tbody tr th:only-of-type {\n",
       "        vertical-align: middle;\n",
       "    }\n",
       "\n",
       "    .dataframe tbody tr th {\n",
       "        vertical-align: top;\n",
       "    }\n",
       "\n",
       "    .dataframe thead th {\n",
       "        text-align: right;\n",
       "    }\n",
       "</style>\n",
       "<table border=\"1\" class=\"dataframe\">\n",
       "  <thead>\n",
       "    <tr style=\"text-align: right;\">\n",
       "      <th></th>\n",
       "      <th>id</th>\n",
       "      <th>f0</th>\n",
       "      <th>f1</th>\n",
       "      <th>f2</th>\n",
       "      <th>product</th>\n",
       "    </tr>\n",
       "  </thead>\n",
       "  <tbody>\n",
       "    <tr>\n",
       "      <th>0</th>\n",
       "      <td>txEyH</td>\n",
       "      <td>0.705745</td>\n",
       "      <td>-0.497823</td>\n",
       "      <td>1.221170</td>\n",
       "      <td>105.280062</td>\n",
       "    </tr>\n",
       "    <tr>\n",
       "      <th>1</th>\n",
       "      <td>2acmU</td>\n",
       "      <td>1.334711</td>\n",
       "      <td>-0.340164</td>\n",
       "      <td>4.365080</td>\n",
       "      <td>73.037750</td>\n",
       "    </tr>\n",
       "    <tr>\n",
       "      <th>2</th>\n",
       "      <td>409Wp</td>\n",
       "      <td>1.022732</td>\n",
       "      <td>0.151990</td>\n",
       "      <td>1.419926</td>\n",
       "      <td>85.265647</td>\n",
       "    </tr>\n",
       "    <tr>\n",
       "      <th>3</th>\n",
       "      <td>iJLyR</td>\n",
       "      <td>-0.032172</td>\n",
       "      <td>0.139033</td>\n",
       "      <td>2.978566</td>\n",
       "      <td>168.620776</td>\n",
       "    </tr>\n",
       "    <tr>\n",
       "      <th>4</th>\n",
       "      <td>Xdl7t</td>\n",
       "      <td>1.988431</td>\n",
       "      <td>0.155413</td>\n",
       "      <td>4.751769</td>\n",
       "      <td>154.036647</td>\n",
       "    </tr>\n",
       "  </tbody>\n",
       "</table>\n",
       "</div>"
      ],
      "text/plain": [
       "      id        f0        f1        f2     product\n",
       "0  txEyH  0.705745 -0.497823  1.221170  105.280062\n",
       "1  2acmU  1.334711 -0.340164  4.365080   73.037750\n",
       "2  409Wp  1.022732  0.151990  1.419926   85.265647\n",
       "3  iJLyR -0.032172  0.139033  2.978566  168.620776\n",
       "4  Xdl7t  1.988431  0.155413  4.751769  154.036647"
      ]
     },
     "execution_count": 2,
     "metadata": {},
     "output_type": "execute_result"
    }
   ],
   "source": [
    "geo_data_1 = pd.read_csv('/datasets/geo_data_0.csv')\n",
    "geo_data_1.head()"
   ]
  },
  {
   "cell_type": "code",
   "execution_count": 3,
   "metadata": {},
   "outputs": [
    {
     "name": "stdout",
     "output_type": "stream",
     "text": [
      "<class 'pandas.core.frame.DataFrame'>\n",
      "RangeIndex: 100000 entries, 0 to 99999\n",
      "Data columns (total 5 columns):\n",
      " #   Column   Non-Null Count   Dtype  \n",
      "---  ------   --------------   -----  \n",
      " 0   id       100000 non-null  object \n",
      " 1   f0       100000 non-null  float64\n",
      " 2   f1       100000 non-null  float64\n",
      " 3   f2       100000 non-null  float64\n",
      " 4   product  100000 non-null  float64\n",
      "dtypes: float64(4), object(1)\n",
      "memory usage: 3.8+ MB\n"
     ]
    }
   ],
   "source": [
    "geo_data_1.info()"
   ]
  },
  {
   "cell_type": "code",
   "execution_count": 4,
   "metadata": {
    "scrolled": true
   },
   "outputs": [
    {
     "data": {
      "text/html": [
       "<div>\n",
       "<style scoped>\n",
       "    .dataframe tbody tr th:only-of-type {\n",
       "        vertical-align: middle;\n",
       "    }\n",
       "\n",
       "    .dataframe tbody tr th {\n",
       "        vertical-align: top;\n",
       "    }\n",
       "\n",
       "    .dataframe thead th {\n",
       "        text-align: right;\n",
       "    }\n",
       "</style>\n",
       "<table border=\"1\" class=\"dataframe\">\n",
       "  <thead>\n",
       "    <tr style=\"text-align: right;\">\n",
       "      <th></th>\n",
       "      <th>id</th>\n",
       "      <th>f0</th>\n",
       "      <th>f1</th>\n",
       "      <th>f2</th>\n",
       "      <th>product</th>\n",
       "    </tr>\n",
       "  </thead>\n",
       "  <tbody>\n",
       "    <tr>\n",
       "      <th>0</th>\n",
       "      <td>kBEdx</td>\n",
       "      <td>-15.001348</td>\n",
       "      <td>-8.276000</td>\n",
       "      <td>-0.005876</td>\n",
       "      <td>3.179103</td>\n",
       "    </tr>\n",
       "    <tr>\n",
       "      <th>1</th>\n",
       "      <td>62mP7</td>\n",
       "      <td>14.272088</td>\n",
       "      <td>-3.475083</td>\n",
       "      <td>0.999183</td>\n",
       "      <td>26.953261</td>\n",
       "    </tr>\n",
       "    <tr>\n",
       "      <th>2</th>\n",
       "      <td>vyE1P</td>\n",
       "      <td>6.263187</td>\n",
       "      <td>-5.948386</td>\n",
       "      <td>5.001160</td>\n",
       "      <td>134.766305</td>\n",
       "    </tr>\n",
       "    <tr>\n",
       "      <th>3</th>\n",
       "      <td>KcrkZ</td>\n",
       "      <td>-13.081196</td>\n",
       "      <td>-11.506057</td>\n",
       "      <td>4.999415</td>\n",
       "      <td>137.945408</td>\n",
       "    </tr>\n",
       "    <tr>\n",
       "      <th>4</th>\n",
       "      <td>AHL4O</td>\n",
       "      <td>12.702195</td>\n",
       "      <td>-8.147433</td>\n",
       "      <td>5.004363</td>\n",
       "      <td>134.766305</td>\n",
       "    </tr>\n",
       "  </tbody>\n",
       "</table>\n",
       "</div>"
      ],
      "text/plain": [
       "      id         f0         f1        f2     product\n",
       "0  kBEdx -15.001348  -8.276000 -0.005876    3.179103\n",
       "1  62mP7  14.272088  -3.475083  0.999183   26.953261\n",
       "2  vyE1P   6.263187  -5.948386  5.001160  134.766305\n",
       "3  KcrkZ -13.081196 -11.506057  4.999415  137.945408\n",
       "4  AHL4O  12.702195  -8.147433  5.004363  134.766305"
      ]
     },
     "execution_count": 4,
     "metadata": {},
     "output_type": "execute_result"
    }
   ],
   "source": [
    "geo_data_2 = pd.read_csv('/datasets/geo_data_1.csv')\n",
    "geo_data_2.head()"
   ]
  },
  {
   "cell_type": "code",
   "execution_count": 5,
   "metadata": {},
   "outputs": [
    {
     "name": "stdout",
     "output_type": "stream",
     "text": [
      "<class 'pandas.core.frame.DataFrame'>\n",
      "RangeIndex: 100000 entries, 0 to 99999\n",
      "Data columns (total 5 columns):\n",
      " #   Column   Non-Null Count   Dtype  \n",
      "---  ------   --------------   -----  \n",
      " 0   id       100000 non-null  object \n",
      " 1   f0       100000 non-null  float64\n",
      " 2   f1       100000 non-null  float64\n",
      " 3   f2       100000 non-null  float64\n",
      " 4   product  100000 non-null  float64\n",
      "dtypes: float64(4), object(1)\n",
      "memory usage: 3.8+ MB\n"
     ]
    }
   ],
   "source": [
    "geo_data_2.info()"
   ]
  },
  {
   "cell_type": "code",
   "execution_count": 6,
   "metadata": {},
   "outputs": [
    {
     "data": {
      "text/html": [
       "<div>\n",
       "<style scoped>\n",
       "    .dataframe tbody tr th:only-of-type {\n",
       "        vertical-align: middle;\n",
       "    }\n",
       "\n",
       "    .dataframe tbody tr th {\n",
       "        vertical-align: top;\n",
       "    }\n",
       "\n",
       "    .dataframe thead th {\n",
       "        text-align: right;\n",
       "    }\n",
       "</style>\n",
       "<table border=\"1\" class=\"dataframe\">\n",
       "  <thead>\n",
       "    <tr style=\"text-align: right;\">\n",
       "      <th></th>\n",
       "      <th>id</th>\n",
       "      <th>f0</th>\n",
       "      <th>f1</th>\n",
       "      <th>f2</th>\n",
       "      <th>product</th>\n",
       "    </tr>\n",
       "  </thead>\n",
       "  <tbody>\n",
       "    <tr>\n",
       "      <th>0</th>\n",
       "      <td>fwXo0</td>\n",
       "      <td>-1.146987</td>\n",
       "      <td>0.963328</td>\n",
       "      <td>-0.828965</td>\n",
       "      <td>27.758673</td>\n",
       "    </tr>\n",
       "    <tr>\n",
       "      <th>1</th>\n",
       "      <td>WJtFt</td>\n",
       "      <td>0.262778</td>\n",
       "      <td>0.269839</td>\n",
       "      <td>-2.530187</td>\n",
       "      <td>56.069697</td>\n",
       "    </tr>\n",
       "    <tr>\n",
       "      <th>2</th>\n",
       "      <td>ovLUW</td>\n",
       "      <td>0.194587</td>\n",
       "      <td>0.289035</td>\n",
       "      <td>-5.586433</td>\n",
       "      <td>62.871910</td>\n",
       "    </tr>\n",
       "    <tr>\n",
       "      <th>3</th>\n",
       "      <td>q6cA6</td>\n",
       "      <td>2.236060</td>\n",
       "      <td>-0.553760</td>\n",
       "      <td>0.930038</td>\n",
       "      <td>114.572842</td>\n",
       "    </tr>\n",
       "    <tr>\n",
       "      <th>4</th>\n",
       "      <td>WPMUX</td>\n",
       "      <td>-0.515993</td>\n",
       "      <td>1.716266</td>\n",
       "      <td>5.899011</td>\n",
       "      <td>149.600746</td>\n",
       "    </tr>\n",
       "  </tbody>\n",
       "</table>\n",
       "</div>"
      ],
      "text/plain": [
       "      id        f0        f1        f2     product\n",
       "0  fwXo0 -1.146987  0.963328 -0.828965   27.758673\n",
       "1  WJtFt  0.262778  0.269839 -2.530187   56.069697\n",
       "2  ovLUW  0.194587  0.289035 -5.586433   62.871910\n",
       "3  q6cA6  2.236060 -0.553760  0.930038  114.572842\n",
       "4  WPMUX -0.515993  1.716266  5.899011  149.600746"
      ]
     },
     "execution_count": 6,
     "metadata": {},
     "output_type": "execute_result"
    }
   ],
   "source": [
    "geo_data_3 = pd.read_csv('/datasets/geo_data_2.csv')\n",
    "geo_data_3.head()"
   ]
  },
  {
   "cell_type": "code",
   "execution_count": 7,
   "metadata": {
    "scrolled": true
   },
   "outputs": [
    {
     "name": "stdout",
     "output_type": "stream",
     "text": [
      "<class 'pandas.core.frame.DataFrame'>\n",
      "RangeIndex: 100000 entries, 0 to 99999\n",
      "Data columns (total 5 columns):\n",
      " #   Column   Non-Null Count   Dtype  \n",
      "---  ------   --------------   -----  \n",
      " 0   id       100000 non-null  object \n",
      " 1   f0       100000 non-null  float64\n",
      " 2   f1       100000 non-null  float64\n",
      " 3   f2       100000 non-null  float64\n",
      " 4   product  100000 non-null  float64\n",
      "dtypes: float64(4), object(1)\n",
      "memory usage: 3.8+ MB\n"
     ]
    }
   ],
   "source": [
    "geo_data_3.info()"
   ]
  },
  {
   "cell_type": "markdown",
   "metadata": {},
   "source": [
    "**Каждая таблицы содержит 100к записей, пропусков нет. Для дальнейшей работы столбец с айдишниками нам не понадобится, дропнем.**"
   ]
  },
  {
   "cell_type": "code",
   "execution_count": 8,
   "metadata": {},
   "outputs": [],
   "source": [
    "geo_data_1 = geo_data_1.drop(['id'], axis=1)\n",
    "geo_data_2 = geo_data_2.drop(['id'], axis=1)\n",
    "geo_data_3 = geo_data_3.drop(['id'], axis=1)"
   ]
  },
  {
   "cell_type": "markdown",
   "metadata": {},
   "source": [
    "## Обучение и проверка модели"
   ]
  },
  {
   "cell_type": "markdown",
   "metadata": {},
   "source": [
    "**Разобьем данные на валидационную и обучающую выборки:**"
   ]
  },
  {
   "cell_type": "code",
   "execution_count": 9,
   "metadata": {},
   "outputs": [],
   "source": [
    "features_1 = geo_data_1.drop(['product'], axis=1)\n",
    "features_2 = geo_data_2.drop(['product'], axis=1)\n",
    "features_3 = geo_data_3.drop(['product'], axis=1)\n",
    "\n",
    "target_1 = geo_data_1['product']\n",
    "target_2 = geo_data_2['product']\n",
    "target_3 = geo_data_3['product']"
   ]
  },
  {
   "cell_type": "code",
   "execution_count": 10,
   "metadata": {},
   "outputs": [],
   "source": [
    "features_train_1, features_valid_1, target_train_1, target_valid_1 = train_test_split(\n",
    "    features_1, target_1, test_size=0.25, random_state=0)\n",
    "\n",
    "features_train_2, features_valid_2, target_train_2, target_valid_2 = train_test_split(\n",
    "    features_2, target_2, test_size=0.25, random_state=0)\n",
    "\n",
    "features_train_3, features_valid_3, target_train_3, target_valid_3 = train_test_split(\n",
    "    features_3, target_3, test_size=0.25, random_state=0)"
   ]
  },
  {
   "cell_type": "code",
   "execution_count": 11,
   "metadata": {
    "scrolled": true
   },
   "outputs": [
    {
     "name": "stdout",
     "output_type": "stream",
     "text": [
      "(75000, 3)\n",
      "(25000, 3)\n",
      "(75000,)\n"
     ]
    }
   ],
   "source": [
    "print(features_train_1.shape)\n",
    "print(features_valid_2.shape)\n",
    "print(target_train_3.shape)"
   ]
  },
  {
   "cell_type": "markdown",
   "metadata": {},
   "source": [
    "**Обучим модели:**\n",
    "\n",
    "**Первый регион**"
   ]
  },
  {
   "cell_type": "code",
   "execution_count": 12,
   "metadata": {},
   "outputs": [
    {
     "name": "stdout",
     "output_type": "stream",
     "text": [
      "Предсказанный средний запас: 92.27144852242301\n",
      "RMSE: 37.48100896950594\n"
     ]
    }
   ],
   "source": [
    "model = LinearRegression()\n",
    "model.fit(features_train_1, target_train_1)\n",
    "predictions_valid_1 = model.predict(features_valid_1)\n",
    "mse = mean_squared_error(target_valid_1, predictions_valid_1)\n",
    "rmse_1 = mse**0.5\n",
    "\n",
    "\n",
    "print('Предсказанный средний запас:', predictions_valid_1.mean())\n",
    "print('RMSE:', rmse_1)"
   ]
  },
  {
   "cell_type": "markdown",
   "metadata": {},
   "source": [
    "**Второй регион**"
   ]
  },
  {
   "cell_type": "code",
   "execution_count": 13,
   "metadata": {
    "scrolled": true
   },
   "outputs": [
    {
     "name": "stdout",
     "output_type": "stream",
     "text": [
      "Предсказанный средний запас: 69.15162398290752\n",
      "RMSE: 0.8872573052219331\n"
     ]
    }
   ],
   "source": [
    "model = LinearRegression()\n",
    "model.fit(features_train_2, target_train_2)\n",
    "predictions_valid_2 = model.predict(features_valid_2)\n",
    "mse = mean_squared_error(target_valid_2, predictions_valid_2)\n",
    "rmse_2 = mse**0.5\n",
    "\n",
    "\n",
    "print('Предсказанный средний запас:', predictions_valid_2.mean())\n",
    "print('RMSE:', rmse_2)"
   ]
  },
  {
   "cell_type": "markdown",
   "metadata": {},
   "source": [
    "**Третий регион**"
   ]
  },
  {
   "cell_type": "code",
   "execution_count": 14,
   "metadata": {},
   "outputs": [
    {
     "name": "stdout",
     "output_type": "stream",
     "text": [
      "Предсказанный средний запас: 94.70753129105672\n",
      "RMSE: 40.31290686044374\n"
     ]
    }
   ],
   "source": [
    "model = LinearRegression()\n",
    "model.fit(features_train_3, target_train_3)\n",
    "predictions_valid_3 = model.predict(features_valid_3)\n",
    "\n",
    "mse = mean_squared_error(target_valid_3, predictions_valid_3)\n",
    "rmse_3 = mse**0.5\n",
    "\n",
    "\n",
    "print('Предсказанный средний запас:', predictions_valid_3.mean())\n",
    "print('RMSE:', rmse_3)"
   ]
  },
  {
   "cell_type": "markdown",
   "metadata": {},
   "source": [
    "**По итогу можно отметить, что средний запас сырья в первом и третьем регоинах значительно выше, чем во втором. При этом, ошибка предсказания в первом и третьем регионах крайне высокая, у второго же региона она практически отсутствует.** \n",
    "\n",
    "**Вероятно, в данных второго региона модель нашла довольно сильную корреляцию между признаками (или одним из признаков) и итоговым количеством сырья.**"
   ]
  },
  {
   "cell_type": "markdown",
   "metadata": {},
   "source": [
    "## Подготовка к расчёту прибыли"
   ]
  },
  {
   "cell_type": "code",
   "execution_count": 15,
   "metadata": {
    "scrolled": true
   },
   "outputs": [
    {
     "name": "stdout",
     "output_type": "stream",
     "text": [
      "Необходимый объём для безубыточной разработки по всему региону: 22223\n",
      "\n",
      "Необходимый объём для безубыточной разработки по одной скважине: 112\n"
     ]
    }
   ],
   "source": [
    "wells_to_explore = 500\n",
    "wells_to_develop = 200\n",
    "budget = 10**10 #10 млрд\n",
    "income_per_unit = 450 * 1000 \n",
    "break_even = budget / income_per_unit \n",
    "break_even_per_well = break_even / wells_to_develop\n",
    "\n",
    "print('Необходимый объём для безубыточной разработки по всему региону:', math.ceil(break_even))\n",
    "print()\n",
    "print('Необходимый объём для безубыточной разработки по одной скважине:', math.ceil(break_even_per_well))"
   ]
  },
  {
   "cell_type": "markdown",
   "metadata": {},
   "source": [
    "**Необходимый объём для безубыточности по одной скважине превышает предсказанное среднее значение по каждому из регионов, но стоит учитывать, что мы будем выбирать 200 лучших скважин, а среднее считалось по всем имеющимся скважинам.**"
   ]
  },
  {
   "cell_type": "markdown",
   "metadata": {},
   "source": [
    "## Расчёт прибыли и рисков "
   ]
  },
  {
   "cell_type": "markdown",
   "metadata": {},
   "source": [
    "**Далее отберём лучшие 200 скважин, просуммируем объём сырья и посчитаем прибыль.**"
   ]
  },
  {
   "cell_type": "code",
   "execution_count": 16,
   "metadata": {},
   "outputs": [],
   "source": [
    "predictions_valid_1 = pd.Series(predictions_valid_1).reset_index(drop=True)\n",
    "predictions_valid_2 = pd.Series(predictions_valid_2).reset_index(drop=True)\n",
    "predictions_valid_3 = pd.Series(predictions_valid_3).reset_index(drop=True)\n",
    "\n",
    "target_valid_1 = pd.Series(target_valid_1).reset_index(drop=True)\n",
    "target_valid_2 = pd.Series(target_valid_2).reset_index(drop=True)\n",
    "target_valid_3 = pd.Series(target_valid_3).reset_index(drop=True)\n",
    "\n",
    "def profit_counter(predicted_product, real_product):\n",
    "    \n",
    "    predicted_best_wells = predicted_product.sample(\n",
    "        wells_to_explore, replace=True, random_state=0).sort_values(\n",
    "        ascending=False).head(wells_to_develop)\n",
    "    \n",
    "    real_best_wells = real_product.loc[predicted_best_wells.index]\n",
    "    real_best_wells_sum = math.floor(real_best_wells.sum())\n",
    "    real_total_profit = math.floor(real_best_wells_sum * income_per_unit) - budget\n",
    "    \n",
    "    print('Предсказанный объём 200 лучших скважин:', real_best_wells_sum) \n",
    "    print('Потенциальная прибыль:', real_total_profit)\n",
    "   "
   ]
  },
  {
   "cell_type": "code",
   "execution_count": 17,
   "metadata": {
    "scrolled": false
   },
   "outputs": [
    {
     "name": "stdout",
     "output_type": "stream",
     "text": [
      "Первый регион:\n",
      "Предсказанный объём 200 лучших скважин: 23134\n",
      "Потенциальная прибыль: 410300000\n",
      "\n",
      "Второй регион:\n",
      "Предсказанный объём 200 лучших скважин: 23103\n",
      "Потенциальная прибыль: 396350000\n",
      "\n",
      "Третий регион:\n",
      "Предсказанный объём 200 лучших скважин: 22556\n",
      "Потенциальная прибыль: 150200000\n"
     ]
    }
   ],
   "source": [
    "print('Первый регион:')\n",
    "profit_counter(predictions_valid_1, target_valid_1)\n",
    "print()\n",
    "print('Второй регион:')\n",
    "profit_counter(predictions_valid_2, target_valid_2)\n",
    "print()\n",
    "print('Третий регион:')\n",
    "profit_counter(predictions_valid_3, target_valid_3)"
   ]
  },
  {
   "cell_type": "markdown",
   "metadata": {},
   "source": [
    "**По итогу видим, что все регионы прошли точку безубыточности в 22 223 тыс. баррелей.**\n",
    "\n",
    "**Далее (чтобы исключить случайность при выборе скважин) посчитаем прибыль и риски техникой Bootstrap, для этого немного поправим возврат функции profit_counter**"
   ]
  },
  {
   "cell_type": "code",
   "execution_count": 18,
   "metadata": {},
   "outputs": [],
   "source": [
    "state = np.random.RandomState(0)\n",
    "\n",
    "def profit_counter(predicted_product, real_product):\n",
    "    \n",
    "    predicted_best_wells = predicted_product.sample(\n",
    "        wells_to_explore, replace=True, random_state=state).sort_values(\n",
    "        ascending=False).head(wells_to_develop)\n",
    "    \n",
    "    real_best_wells = real_product.loc[predicted_best_wells.index]\n",
    "    real_best_wells_sum = math.floor(real_best_wells.sum())\n",
    "    real_total_profit = math.floor(real_best_wells_sum * income_per_unit) - budget\n",
    "    \n",
    "    return real_total_profit"
   ]
  },
  {
   "cell_type": "markdown",
   "metadata": {},
   "source": [
    "**Первый регион**"
   ]
  },
  {
   "cell_type": "code",
   "execution_count": 19,
   "metadata": {},
   "outputs": [
    {
     "name": "stdout",
     "output_type": "stream",
     "text": [
      "Вероятность убытка: 3.9 %\n",
      "Средняя прибыль: 442646900\n",
      "2,5%-квантиль: -49262500\n",
      "97,5%-квантиль: 921061250\n"
     ]
    }
   ],
   "source": [
    "values_1 = []\n",
    "\n",
    "for i in range(1000):\n",
    "    values_1.append(profit_counter(predictions_valid_1, target_valid_1))\n",
    "    \n",
    "values_1 = pd.Series(values_1)\n",
    "lower_1 = values_1.quantile(0.025)\n",
    "higher_1 = values_1.quantile(0.975)\n",
    "mean_1 = values_1.mean()\n",
    "loss_probability_1 = values_1[values_1 < 0].count() / len(values_1) * 100\n",
    "\n",
    "print('Вероятность убытка:', loss_probability_1, '%')\n",
    "print('Средняя прибыль:', math.floor(mean_1))\n",
    "print('2,5%-квантиль:', math.floor(lower_1))\n",
    "print('97,5%-квантиль:', math.floor(higher_1))"
   ]
  },
  {
   "cell_type": "markdown",
   "metadata": {},
   "source": [
    "**Второй регион**"
   ]
  },
  {
   "cell_type": "code",
   "execution_count": 20,
   "metadata": {
    "scrolled": true
   },
   "outputs": [
    {
     "name": "stdout",
     "output_type": "stream",
     "text": [
      "Вероятность убытка: 0.8 %\n",
      "Средняя прибыль: 469305800\n",
      "2,5%-квантиль: 84860000\n",
      "97,5%-квантиль: 850478749\n"
     ]
    }
   ],
   "source": [
    "values_2 = []\n",
    "\n",
    "for i in range(1000):\n",
    "    values_2.append(profit_counter(predictions_valid_2, target_valid_2))\n",
    "    \n",
    "values_2 = pd.Series(values_2)\n",
    "lower_2 = values_2.quantile(0.025)\n",
    "higher_2 = values_2.quantile(0.975)\n",
    "mean_2 = values_2.mean()\n",
    "loss_probability_2 = values_2[values_2 < 0].count() / len(values_2) * 100\n",
    "\n",
    "print('Вероятность убытка:', loss_probability_2, '%')\n",
    "print('Средняя прибыль:', math.floor(mean_2))\n",
    "print('2,5%-квантиль:', math.floor(lower_2))\n",
    "print('97,5%-квантиль:', math.floor(higher_2))"
   ]
  },
  {
   "cell_type": "markdown",
   "metadata": {},
   "source": [
    "**Третий регион**"
   ]
  },
  {
   "cell_type": "code",
   "execution_count": 21,
   "metadata": {},
   "outputs": [
    {
     "name": "stdout",
     "output_type": "stream",
     "text": [
      "Вероятность убытка: 6.9 %\n",
      "Средняя прибыль: 384194600\n",
      "2,5%-квантиль: -151243750\n",
      "97,5%-квантиль: 916606250\n"
     ]
    }
   ],
   "source": [
    "values_3 = []\n",
    "\n",
    "for i in range(1000):\n",
    "    values_3.append(profit_counter(predictions_valid_3, target_valid_3))\n",
    "    \n",
    "values_3 = pd.Series(values_3)\n",
    "lower_3 = values_3.quantile(0.025)\n",
    "higher_3 = values_3.quantile(0.975)\n",
    "mean_3 = values_3.mean()\n",
    "loss_probability_3 = values_3[values_3 < 0].count() / len(values_3) * 100\n",
    "\n",
    "print('Вероятность убытка:', loss_probability_3, '%')\n",
    "print('Средняя прибыль:', math.floor(mean_3))\n",
    "print('2,5%-квантиль:', math.floor(lower_3))\n",
    "print('97,5%-квантиль:', math.floor(higher_3))"
   ]
  },
  {
   "cell_type": "markdown",
   "metadata": {},
   "source": [
    "**По итогу проверку на риск прошел только второй регион, только там вероятность уйти в минус меньше 2.5%. Более того, средняя прибыль в данном регионе выше, чем в двух других. Также стоит заметить, что предел доверительного интервала у второго региона самый низкий, а у третьего региона (с недопустимым уровнем риска) самый высокий**"
   ]
  },
  {
   "cell_type": "markdown",
   "metadata": {},
   "source": [
    "## Вывод"
   ]
  },
  {
   "cell_type": "markdown",
   "metadata": {},
   "source": [
    "**В рамках данного проекта я:**\n",
    "* Обучил модель линейной регрессии и спрогнозировал количество баррелей в скважинах трёх регионов. Первый и третий регион выглядели перспективнее второго\n",
    "* Выбрал случайные 500 скважин для каждого региона и рассчитал по ним прибыль\n",
    "* Провел тысячу экспериментов с разными выборками из 500 скважин для снижения влияния случайности\n",
    "* Выяснил, что под заданные бизнесом параметры риска подходит только второй регион"
   ]
  }
 ],
 "metadata": {
  "ExecuteTimeLog": [
   {
    "duration": 255,
    "start_time": "2022-03-31T13:10:10.550Z"
   },
   {
    "duration": 421,
    "start_time": "2022-03-31T13:36:35.842Z"
   },
   {
    "duration": 143,
    "start_time": "2022-03-31T13:37:00.417Z"
   },
   {
    "duration": 139,
    "start_time": "2022-03-31T13:37:09.935Z"
   },
   {
    "duration": 200,
    "start_time": "2022-03-31T13:42:53.123Z"
   },
   {
    "duration": 141,
    "start_time": "2022-03-31T13:43:19.795Z"
   },
   {
    "duration": 24,
    "start_time": "2022-03-31T13:43:40.698Z"
   },
   {
    "duration": 23,
    "start_time": "2022-03-31T13:43:50.793Z"
   },
   {
    "duration": 22,
    "start_time": "2022-03-31T13:43:59.513Z"
   },
   {
    "duration": 18,
    "start_time": "2022-03-31T13:45:26.885Z"
   },
   {
    "duration": 14,
    "start_time": "2022-03-31T13:45:48.362Z"
   },
   {
    "duration": 1231,
    "start_time": "2022-03-31T14:07:27.562Z"
   },
   {
    "duration": 4,
    "start_time": "2022-03-31T14:07:35.002Z"
   },
   {
    "duration": 11,
    "start_time": "2022-03-31T14:29:20.074Z"
   },
   {
    "duration": 10,
    "start_time": "2022-03-31T14:29:54.975Z"
   },
   {
    "duration": 43,
    "start_time": "2022-03-31T14:32:12.769Z"
   },
   {
    "duration": 11,
    "start_time": "2022-03-31T14:32:30.890Z"
   },
   {
    "duration": 6,
    "start_time": "2022-03-31T14:32:34.738Z"
   },
   {
    "duration": 5,
    "start_time": "2022-03-31T14:33:39.423Z"
   },
   {
    "duration": 17,
    "start_time": "2022-03-31T14:43:23.753Z"
   },
   {
    "duration": 22,
    "start_time": "2022-03-31T14:45:05.748Z"
   },
   {
    "duration": 18,
    "start_time": "2022-03-31T14:45:14.470Z"
   },
   {
    "duration": 15,
    "start_time": "2022-03-31T14:45:34.244Z"
   },
   {
    "duration": 16,
    "start_time": "2022-03-31T14:45:36.339Z"
   },
   {
    "duration": 22,
    "start_time": "2022-03-31T14:49:13.545Z"
   },
   {
    "duration": 19,
    "start_time": "2022-03-31T14:50:18.360Z"
   },
   {
    "duration": 18,
    "start_time": "2022-03-31T14:50:28.808Z"
   },
   {
    "duration": 17,
    "start_time": "2022-03-31T14:50:33.943Z"
   },
   {
    "duration": 14,
    "start_time": "2022-03-31T14:50:36.055Z"
   },
   {
    "duration": 5,
    "start_time": "2022-03-31T19:23:23.082Z"
   },
   {
    "duration": 4,
    "start_time": "2022-03-31T19:30:26.799Z"
   },
   {
    "duration": 5,
    "start_time": "2022-03-31T19:36:43.246Z"
   },
   {
    "duration": 5,
    "start_time": "2022-03-31T19:36:56.886Z"
   },
   {
    "duration": 4,
    "start_time": "2022-03-31T19:37:42.140Z"
   },
   {
    "duration": 5,
    "start_time": "2022-03-31T19:38:05.099Z"
   },
   {
    "duration": 5,
    "start_time": "2022-03-31T19:38:20.106Z"
   },
   {
    "duration": 17,
    "start_time": "2022-03-31T19:44:15.153Z"
   },
   {
    "duration": 20,
    "start_time": "2022-03-31T19:44:43.760Z"
   },
   {
    "duration": 16,
    "start_time": "2022-03-31T19:45:04.241Z"
   },
   {
    "duration": 16,
    "start_time": "2022-03-31T19:45:10.119Z"
   },
   {
    "duration": 16,
    "start_time": "2022-03-31T19:45:38.153Z"
   },
   {
    "duration": 9,
    "start_time": "2022-03-31T21:37:17.859Z"
   },
   {
    "duration": 5,
    "start_time": "2022-03-31T21:37:28.346Z"
   },
   {
    "duration": 10,
    "start_time": "2022-03-31T21:37:40.284Z"
   },
   {
    "duration": 4,
    "start_time": "2022-03-31T21:38:01.587Z"
   },
   {
    "duration": 7,
    "start_time": "2022-03-31T21:38:10.682Z"
   },
   {
    "duration": 9,
    "start_time": "2022-03-31T21:38:19.515Z"
   },
   {
    "duration": 8,
    "start_time": "2022-03-31T21:38:30.537Z"
   },
   {
    "duration": 8,
    "start_time": "2022-03-31T21:39:56.758Z"
   },
   {
    "duration": 10,
    "start_time": "2022-03-31T21:40:32.313Z"
   },
   {
    "duration": 10,
    "start_time": "2022-03-31T21:42:08.007Z"
   },
   {
    "duration": 16,
    "start_time": "2022-03-31T23:22:44.022Z"
   },
   {
    "duration": 8,
    "start_time": "2022-03-31T23:22:53.342Z"
   },
   {
    "duration": 136,
    "start_time": "2022-03-31T23:24:10.676Z"
   },
   {
    "duration": 8,
    "start_time": "2022-03-31T23:24:23.499Z"
   },
   {
    "duration": 9,
    "start_time": "2022-03-31T23:24:46.353Z"
   },
   {
    "duration": 8,
    "start_time": "2022-03-31T23:25:05.881Z"
   },
   {
    "duration": 9,
    "start_time": "2022-03-31T23:25:18.608Z"
   },
   {
    "duration": 8,
    "start_time": "2022-03-31T23:27:24.203Z"
   },
   {
    "duration": 4,
    "start_time": "2022-03-31T23:31:15.683Z"
   },
   {
    "duration": 11,
    "start_time": "2022-03-31T23:32:13.062Z"
   },
   {
    "duration": 16,
    "start_time": "2022-03-31T23:32:53.557Z"
   },
   {
    "duration": 16,
    "start_time": "2022-03-31T23:33:15.203Z"
   },
   {
    "duration": 11,
    "start_time": "2022-03-31T23:49:32.966Z"
   },
   {
    "duration": 3,
    "start_time": "2022-03-31T23:49:38.167Z"
   },
   {
    "duration": 4,
    "start_time": "2022-03-31T23:50:00.982Z"
   },
   {
    "duration": 5,
    "start_time": "2022-03-31T23:50:29.676Z"
   },
   {
    "duration": 5,
    "start_time": "2022-03-31T23:52:20.887Z"
   },
   {
    "duration": 4,
    "start_time": "2022-03-31T23:52:25.719Z"
   },
   {
    "duration": 4,
    "start_time": "2022-03-31T23:52:29.263Z"
   },
   {
    "duration": 5,
    "start_time": "2022-03-31T23:52:39.855Z"
   },
   {
    "duration": 5,
    "start_time": "2022-03-31T23:52:42.102Z"
   },
   {
    "duration": 4,
    "start_time": "2022-03-31T23:52:45.646Z"
   },
   {
    "duration": 9,
    "start_time": "2022-03-31T23:52:50.806Z"
   },
   {
    "duration": 4,
    "start_time": "2022-03-31T23:52:58.414Z"
   },
   {
    "duration": 4,
    "start_time": "2022-03-31T23:54:42.793Z"
   },
   {
    "duration": 11,
    "start_time": "2022-03-31T23:54:52.592Z"
   },
   {
    "duration": 318,
    "start_time": "2022-03-31T23:55:26.520Z"
   },
   {
    "duration": 5,
    "start_time": "2022-03-31T23:55:48.014Z"
   },
   {
    "duration": 308,
    "start_time": "2022-03-31T23:55:50.415Z"
   },
   {
    "duration": 4,
    "start_time": "2022-03-31T23:56:26.476Z"
   },
   {
    "duration": 11,
    "start_time": "2022-03-31T23:57:11.139Z"
   },
   {
    "duration": 27,
    "start_time": "2022-03-31T23:57:35.393Z"
   },
   {
    "duration": 10,
    "start_time": "2022-03-31T23:57:53.848Z"
   },
   {
    "duration": 3,
    "start_time": "2022-03-31T23:58:17.352Z"
   },
   {
    "duration": 7,
    "start_time": "2022-03-31T23:58:21.863Z"
   },
   {
    "duration": 312,
    "start_time": "2022-03-31T23:58:55.542Z"
   },
   {
    "duration": 8,
    "start_time": "2022-04-01T00:01:22.167Z"
   },
   {
    "duration": 8,
    "start_time": "2022-04-01T00:01:24.046Z"
   },
   {
    "duration": 8,
    "start_time": "2022-04-01T00:01:24.590Z"
   },
   {
    "duration": 8,
    "start_time": "2022-04-01T00:01:24.903Z"
   },
   {
    "duration": 8,
    "start_time": "2022-04-01T00:01:50.798Z"
   },
   {
    "duration": 8,
    "start_time": "2022-04-01T00:01:57.093Z"
   },
   {
    "duration": 8,
    "start_time": "2022-04-01T00:02:40.412Z"
   },
   {
    "duration": 137,
    "start_time": "2022-04-01T00:03:19.314Z"
   },
   {
    "duration": 143,
    "start_time": "2022-04-01T00:03:24.809Z"
   },
   {
    "duration": 8,
    "start_time": "2022-04-01T00:03:37.769Z"
   },
   {
    "duration": 4,
    "start_time": "2022-04-01T00:05:21.284Z"
   },
   {
    "duration": 6,
    "start_time": "2022-04-01T00:06:32.705Z"
   },
   {
    "duration": 142,
    "start_time": "2022-04-01T00:08:49.346Z"
   },
   {
    "duration": 6,
    "start_time": "2022-04-01T00:08:57.546Z"
   },
   {
    "duration": 21,
    "start_time": "2022-04-01T00:08:59.932Z"
   },
   {
    "duration": 4,
    "start_time": "2022-04-01T00:09:56.081Z"
   },
   {
    "duration": 8,
    "start_time": "2022-04-01T00:10:00.655Z"
   },
   {
    "duration": 9,
    "start_time": "2022-04-01T00:10:29.670Z"
   },
   {
    "duration": 12,
    "start_time": "2022-04-01T00:10:39.318Z"
   },
   {
    "duration": 15,
    "start_time": "2022-04-01T00:11:03.042Z"
   },
   {
    "duration": 12,
    "start_time": "2022-04-01T00:11:07.413Z"
   },
   {
    "duration": 6,
    "start_time": "2022-04-01T00:11:56.907Z"
   },
   {
    "duration": 12,
    "start_time": "2022-04-01T00:12:15.609Z"
   },
   {
    "duration": 6,
    "start_time": "2022-04-01T00:12:49.576Z"
   },
   {
    "duration": 5,
    "start_time": "2022-04-01T00:12:59.687Z"
   },
   {
    "duration": 6,
    "start_time": "2022-04-01T00:13:07.911Z"
   },
   {
    "duration": 4,
    "start_time": "2022-04-01T00:13:24.918Z"
   },
   {
    "duration": 6,
    "start_time": "2022-04-01T00:13:30.462Z"
   },
   {
    "duration": 4,
    "start_time": "2022-04-01T00:14:01.805Z"
   },
   {
    "duration": 4,
    "start_time": "2022-04-01T00:14:08.852Z"
   },
   {
    "duration": 9,
    "start_time": "2022-04-01T00:14:54.882Z"
   },
   {
    "duration": 4,
    "start_time": "2022-04-01T00:17:39.275Z"
   },
   {
    "duration": 14,
    "start_time": "2022-04-01T00:17:55.922Z"
   },
   {
    "duration": 14,
    "start_time": "2022-04-01T00:18:03.842Z"
   },
   {
    "duration": 6,
    "start_time": "2022-04-01T00:18:08.665Z"
   },
   {
    "duration": 5,
    "start_time": "2022-04-01T00:18:10.841Z"
   },
   {
    "duration": 6,
    "start_time": "2022-04-01T00:18:11.625Z"
   },
   {
    "duration": 6,
    "start_time": "2022-04-01T00:18:12.105Z"
   },
   {
    "duration": 6,
    "start_time": "2022-04-01T00:18:12.617Z"
   },
   {
    "duration": 7,
    "start_time": "2022-04-01T00:18:13.192Z"
   },
   {
    "duration": 13,
    "start_time": "2022-04-01T00:18:18.041Z"
   },
   {
    "duration": 8,
    "start_time": "2022-04-01T00:19:11.215Z"
   },
   {
    "duration": 9,
    "start_time": "2022-04-01T00:19:18.830Z"
   },
   {
    "duration": 7,
    "start_time": "2022-04-01T00:19:36.238Z"
   },
   {
    "duration": 127,
    "start_time": "2022-04-01T00:19:51.453Z"
   },
   {
    "duration": 14,
    "start_time": "2022-04-01T00:19:58.731Z"
   },
   {
    "duration": 11,
    "start_time": "2022-04-01T00:20:03.917Z"
   },
   {
    "duration": 6,
    "start_time": "2022-04-01T00:20:24.415Z"
   },
   {
    "duration": 4,
    "start_time": "2022-04-01T00:21:01.146Z"
   },
   {
    "duration": 6,
    "start_time": "2022-04-01T00:21:02.842Z"
   },
   {
    "duration": 3,
    "start_time": "2022-04-01T00:21:08.202Z"
   },
   {
    "duration": 8,
    "start_time": "2022-04-01T00:21:15.648Z"
   },
   {
    "duration": 7,
    "start_time": "2022-04-01T00:21:24.145Z"
   },
   {
    "duration": 7,
    "start_time": "2022-04-01T00:21:42.312Z"
   },
   {
    "duration": 14,
    "start_time": "2022-04-01T00:21:55.335Z"
   },
   {
    "duration": 13,
    "start_time": "2022-04-01T00:23:05.036Z"
   },
   {
    "duration": 7,
    "start_time": "2022-04-01T00:25:04.175Z"
   },
   {
    "duration": 7,
    "start_time": "2022-04-01T00:25:16.990Z"
   },
   {
    "duration": 5,
    "start_time": "2022-04-01T00:27:10.112Z"
   },
   {
    "duration": 16,
    "start_time": "2022-04-01T00:27:12.281Z"
   },
   {
    "duration": 5,
    "start_time": "2022-04-01T00:27:27.272Z"
   },
   {
    "duration": 12,
    "start_time": "2022-04-01T00:27:29.200Z"
   },
   {
    "duration": 5,
    "start_time": "2022-04-01T00:28:11.998Z"
   },
   {
    "duration": 5,
    "start_time": "2022-04-01T00:28:16.998Z"
   },
   {
    "duration": 5,
    "start_time": "2022-04-01T00:28:27.741Z"
   },
   {
    "duration": 5,
    "start_time": "2022-04-01T00:29:26.107Z"
   },
   {
    "duration": 5,
    "start_time": "2022-04-01T00:31:51.459Z"
   },
   {
    "duration": 5,
    "start_time": "2022-04-01T00:31:54.764Z"
   },
   {
    "duration": 11,
    "start_time": "2022-04-01T00:31:56.980Z"
   },
   {
    "duration": 4,
    "start_time": "2022-04-01T00:32:06.892Z"
   },
   {
    "duration": 5,
    "start_time": "2022-04-01T00:32:11.579Z"
   },
   {
    "duration": 12,
    "start_time": "2022-04-01T00:32:13.868Z"
   },
   {
    "duration": 4,
    "start_time": "2022-04-01T01:11:45.537Z"
   },
   {
    "duration": 4,
    "start_time": "2022-04-01T01:12:29.807Z"
   },
   {
    "duration": 13,
    "start_time": "2022-04-01T01:12:33.175Z"
   },
   {
    "duration": 4,
    "start_time": "2022-04-01T01:12:46.958Z"
   },
   {
    "duration": 10,
    "start_time": "2022-04-01T01:12:49.510Z"
   },
   {
    "duration": 6,
    "start_time": "2022-04-01T01:13:23.005Z"
   },
   {
    "duration": 4,
    "start_time": "2022-04-01T01:13:25.845Z"
   },
   {
    "duration": 6,
    "start_time": "2022-04-01T01:13:28.196Z"
   },
   {
    "duration": 6,
    "start_time": "2022-04-01T01:13:38.364Z"
   },
   {
    "duration": 5,
    "start_time": "2022-04-01T01:16:27.100Z"
   },
   {
    "duration": 11,
    "start_time": "2022-04-01T01:16:30.404Z"
   },
   {
    "duration": 4,
    "start_time": "2022-04-01T01:16:55.195Z"
   },
   {
    "duration": 42,
    "start_time": "2022-04-01T01:26:13.360Z"
   },
   {
    "duration": 16,
    "start_time": "2022-04-01T01:26:28.955Z"
   },
   {
    "duration": 12,
    "start_time": "2022-04-01T01:36:54.924Z"
   },
   {
    "duration": 12,
    "start_time": "2022-04-01T01:38:13.913Z"
   },
   {
    "duration": 12,
    "start_time": "2022-04-01T01:39:41.542Z"
   },
   {
    "duration": 7,
    "start_time": "2022-04-01T01:49:30.817Z"
   },
   {
    "duration": 10,
    "start_time": "2022-04-01T01:49:33.923Z"
   },
   {
    "duration": 11,
    "start_time": "2022-04-01T01:50:02.089Z"
   },
   {
    "duration": 10,
    "start_time": "2022-04-01T01:50:02.745Z"
   },
   {
    "duration": 11,
    "start_time": "2022-04-01T01:50:03.545Z"
   },
   {
    "duration": 10,
    "start_time": "2022-04-01T01:50:05.945Z"
   },
   {
    "duration": 11,
    "start_time": "2022-04-01T01:50:06.993Z"
   },
   {
    "duration": 10,
    "start_time": "2022-04-01T01:50:07.593Z"
   },
   {
    "duration": 10,
    "start_time": "2022-04-01T01:50:08.057Z"
   },
   {
    "duration": 6,
    "start_time": "2022-04-01T01:50:10.073Z"
   },
   {
    "duration": 10,
    "start_time": "2022-04-01T01:50:14.432Z"
   },
   {
    "duration": 6,
    "start_time": "2022-04-01T01:50:16.920Z"
   },
   {
    "duration": 10,
    "start_time": "2022-04-01T01:50:20.328Z"
   },
   {
    "duration": 5,
    "start_time": "2022-04-01T01:52:19.114Z"
   },
   {
    "duration": 10,
    "start_time": "2022-04-01T01:52:22.243Z"
   },
   {
    "duration": 4,
    "start_time": "2022-04-01T01:52:50.730Z"
   },
   {
    "duration": 10,
    "start_time": "2022-04-01T01:52:53.521Z"
   },
   {
    "duration": 6,
    "start_time": "2022-04-01T01:52:56.417Z"
   },
   {
    "duration": 10,
    "start_time": "2022-04-01T01:53:00.257Z"
   },
   {
    "duration": 1194,
    "start_time": "2022-04-01T01:53:17.318Z"
   },
   {
    "duration": 150,
    "start_time": "2022-04-01T01:53:18.514Z"
   },
   {
    "duration": 17,
    "start_time": "2022-04-01T01:53:18.665Z"
   },
   {
    "duration": 134,
    "start_time": "2022-04-01T01:53:18.684Z"
   },
   {
    "duration": 16,
    "start_time": "2022-04-01T01:53:18.820Z"
   },
   {
    "duration": 152,
    "start_time": "2022-04-01T01:53:18.837Z"
   },
   {
    "duration": 20,
    "start_time": "2022-04-01T01:53:18.991Z"
   },
   {
    "duration": 14,
    "start_time": "2022-04-01T01:53:19.013Z"
   },
   {
    "duration": 13,
    "start_time": "2022-04-01T01:53:19.029Z"
   },
   {
    "duration": 59,
    "start_time": "2022-04-01T01:53:19.043Z"
   },
   {
    "duration": 4,
    "start_time": "2022-04-01T01:53:19.104Z"
   },
   {
    "duration": 97,
    "start_time": "2022-04-01T01:53:19.110Z"
   },
   {
    "duration": 25,
    "start_time": "2022-04-01T01:53:19.300Z"
   },
   {
    "duration": 111,
    "start_time": "2022-04-01T01:53:19.405Z"
   },
   {
    "duration": 7,
    "start_time": "2022-04-01T01:53:19.602Z"
   },
   {
    "duration": 105,
    "start_time": "2022-04-01T01:53:19.611Z"
   },
   {
    "duration": 20,
    "start_time": "2022-04-01T01:53:19.718Z"
   },
   {
    "duration": 4,
    "start_time": "2022-04-01T01:53:19.740Z"
   },
   {
    "duration": 120,
    "start_time": "2022-04-01T01:53:19.746Z"
   },
   {
    "duration": 1251,
    "start_time": "2022-04-01T01:55:01.377Z"
   },
   {
    "duration": 149,
    "start_time": "2022-04-01T01:55:02.630Z"
   },
   {
    "duration": 20,
    "start_time": "2022-04-01T01:55:02.781Z"
   },
   {
    "duration": 143,
    "start_time": "2022-04-01T01:55:02.803Z"
   },
   {
    "duration": 16,
    "start_time": "2022-04-01T01:55:02.948Z"
   },
   {
    "duration": 152,
    "start_time": "2022-04-01T01:55:02.965Z"
   },
   {
    "duration": 16,
    "start_time": "2022-04-01T01:55:03.119Z"
   },
   {
    "duration": 15,
    "start_time": "2022-04-01T01:55:03.137Z"
   },
   {
    "duration": 14,
    "start_time": "2022-04-01T01:55:03.155Z"
   },
   {
    "duration": 66,
    "start_time": "2022-04-01T01:55:03.170Z"
   },
   {
    "duration": 4,
    "start_time": "2022-04-01T01:55:03.238Z"
   },
   {
    "duration": 67,
    "start_time": "2022-04-01T01:55:03.243Z"
   },
   {
    "duration": 18,
    "start_time": "2022-04-01T01:55:03.402Z"
   },
   {
    "duration": 183,
    "start_time": "2022-04-01T01:55:03.424Z"
   },
   {
    "duration": 95,
    "start_time": "2022-04-01T01:55:03.610Z"
   },
   {
    "duration": 120,
    "start_time": "2022-04-01T01:55:03.708Z"
   },
   {
    "duration": 26,
    "start_time": "2022-04-01T01:55:03.831Z"
   },
   {
    "duration": 2564,
    "start_time": "2022-04-01T01:55:03.859Z"
   },
   {
    "duration": 4,
    "start_time": "2022-04-01T01:56:15.058Z"
   },
   {
    "duration": 1283,
    "start_time": "2022-04-01T01:56:18.298Z"
   },
   {
    "duration": 1273,
    "start_time": "2022-04-01T01:56:34.233Z"
   },
   {
    "duration": 1282,
    "start_time": "2022-04-01T01:59:14.681Z"
   },
   {
    "duration": 1295,
    "start_time": "2022-04-01T02:00:13.487Z"
   },
   {
    "duration": 1284,
    "start_time": "2022-04-01T02:09:29.574Z"
   },
   {
    "duration": 1273,
    "start_time": "2022-04-01T02:09:33.654Z"
   },
   {
    "duration": 1290,
    "start_time": "2022-04-01T02:09:37.388Z"
   },
   {
    "duration": 1273,
    "start_time": "2022-04-01T02:13:15.812Z"
   },
   {
    "duration": 1286,
    "start_time": "2022-04-01T02:13:33.187Z"
   },
   {
    "duration": 1262,
    "start_time": "2022-04-01T02:13:49.690Z"
   },
   {
    "duration": 1193,
    "start_time": "2022-04-01T02:25:50.428Z"
   },
   {
    "duration": 142,
    "start_time": "2022-04-01T02:25:51.623Z"
   },
   {
    "duration": 17,
    "start_time": "2022-04-01T02:25:51.766Z"
   },
   {
    "duration": 134,
    "start_time": "2022-04-01T02:25:51.786Z"
   },
   {
    "duration": 15,
    "start_time": "2022-04-01T02:25:51.922Z"
   },
   {
    "duration": 148,
    "start_time": "2022-04-01T02:25:51.939Z"
   },
   {
    "duration": 20,
    "start_time": "2022-04-01T02:25:52.089Z"
   },
   {
    "duration": 14,
    "start_time": "2022-04-01T02:25:52.111Z"
   },
   {
    "duration": 11,
    "start_time": "2022-04-01T02:25:52.127Z"
   },
   {
    "duration": 37,
    "start_time": "2022-04-01T02:25:52.141Z"
   },
   {
    "duration": 5,
    "start_time": "2022-04-01T02:25:52.200Z"
   },
   {
    "duration": 101,
    "start_time": "2022-04-01T02:25:52.206Z"
   },
   {
    "duration": 107,
    "start_time": "2022-04-01T02:25:52.310Z"
   },
   {
    "duration": 187,
    "start_time": "2022-04-01T02:25:52.418Z"
   },
   {
    "duration": 102,
    "start_time": "2022-04-01T02:25:52.607Z"
   },
   {
    "duration": 90,
    "start_time": "2022-04-01T02:25:52.711Z"
   },
   {
    "duration": 11,
    "start_time": "2022-04-01T02:25:52.803Z"
   },
   {
    "duration": 10,
    "start_time": "2022-04-01T02:25:52.815Z"
   },
   {
    "duration": 1315,
    "start_time": "2022-04-01T02:25:52.827Z"
   },
   {
    "duration": 1291,
    "start_time": "2022-04-01T02:25:54.144Z"
   },
   {
    "duration": 1270,
    "start_time": "2022-04-01T02:25:55.437Z"
   },
   {
    "duration": 1144,
    "start_time": "2022-04-03T22:06:41.805Z"
   },
   {
    "duration": 135,
    "start_time": "2022-04-03T22:06:42.951Z"
   },
   {
    "duration": 15,
    "start_time": "2022-04-03T22:06:43.088Z"
   },
   {
    "duration": 130,
    "start_time": "2022-04-03T22:06:43.105Z"
   },
   {
    "duration": 14,
    "start_time": "2022-04-03T22:06:43.237Z"
   },
   {
    "duration": 130,
    "start_time": "2022-04-03T22:06:43.253Z"
   },
   {
    "duration": 15,
    "start_time": "2022-04-03T22:06:43.384Z"
   },
   {
    "duration": 14,
    "start_time": "2022-04-03T22:06:43.400Z"
   },
   {
    "duration": 26,
    "start_time": "2022-04-03T22:06:43.416Z"
   },
   {
    "duration": 33,
    "start_time": "2022-04-03T22:06:43.445Z"
   },
   {
    "duration": 3,
    "start_time": "2022-04-03T22:06:43.480Z"
   },
   {
    "duration": 54,
    "start_time": "2022-04-03T22:06:43.485Z"
   },
   {
    "duration": 103,
    "start_time": "2022-04-03T22:06:43.544Z"
   },
   {
    "duration": 198,
    "start_time": "2022-04-03T22:06:43.649Z"
   },
   {
    "duration": 89,
    "start_time": "2022-04-03T22:06:43.850Z"
   },
   {
    "duration": 99,
    "start_time": "2022-04-03T22:06:43.942Z"
   },
   {
    "duration": 14,
    "start_time": "2022-04-03T22:06:44.042Z"
   },
   {
    "duration": 3,
    "start_time": "2022-04-03T22:06:44.058Z"
   },
   {
    "duration": 1361,
    "start_time": "2022-04-03T22:06:44.063Z"
   },
   {
    "duration": 1321,
    "start_time": "2022-04-03T22:06:45.426Z"
   },
   {
    "duration": 1316,
    "start_time": "2022-04-03T22:06:46.749Z"
   },
   {
    "duration": 93,
    "start_time": "2022-04-03T22:07:10.216Z"
   },
   {
    "duration": 4,
    "start_time": "2022-04-03T22:12:38.218Z"
   },
   {
    "duration": 4,
    "start_time": "2022-04-03T22:13:39.247Z"
   },
   {
    "duration": 107,
    "start_time": "2022-04-03T22:14:29.188Z"
   },
   {
    "duration": 11,
    "start_time": "2022-04-03T22:14:45.339Z"
   },
   {
    "duration": 5,
    "start_time": "2022-04-03T22:15:09.555Z"
   },
   {
    "duration": 6,
    "start_time": "2022-04-03T22:15:17.538Z"
   },
   {
    "duration": 8,
    "start_time": "2022-04-03T22:15:37.370Z"
   },
   {
    "duration": 9,
    "start_time": "2022-04-03T22:15:46.024Z"
   },
   {
    "duration": 6,
    "start_time": "2022-04-03T22:15:52.552Z"
   },
   {
    "duration": 3,
    "start_time": "2022-04-03T22:16:09.351Z"
   },
   {
    "duration": 8,
    "start_time": "2022-04-03T22:16:12.831Z"
   },
   {
    "duration": 4,
    "start_time": "2022-04-03T22:16:27.278Z"
   },
   {
    "duration": 9,
    "start_time": "2022-04-03T22:17:08.829Z"
   },
   {
    "duration": 4,
    "start_time": "2022-04-03T22:17:21.612Z"
   },
   {
    "duration": 1288,
    "start_time": "2022-04-04T06:20:39.754Z"
   },
   {
    "duration": 149,
    "start_time": "2022-04-04T06:20:41.044Z"
   },
   {
    "duration": 17,
    "start_time": "2022-04-04T06:20:41.195Z"
   },
   {
    "duration": 136,
    "start_time": "2022-04-04T06:20:41.214Z"
   },
   {
    "duration": 16,
    "start_time": "2022-04-04T06:20:41.352Z"
   },
   {
    "duration": 146,
    "start_time": "2022-04-04T06:20:41.370Z"
   },
   {
    "duration": 17,
    "start_time": "2022-04-04T06:20:41.518Z"
   },
   {
    "duration": 16,
    "start_time": "2022-04-04T06:20:41.538Z"
   },
   {
    "duration": 14,
    "start_time": "2022-04-04T06:20:41.557Z"
   },
   {
    "duration": 58,
    "start_time": "2022-04-04T06:20:41.575Z"
   },
   {
    "duration": 4,
    "start_time": "2022-04-04T06:20:41.635Z"
   },
   {
    "duration": 67,
    "start_time": "2022-04-04T06:20:41.640Z"
   },
   {
    "duration": 110,
    "start_time": "2022-04-04T06:20:41.710Z"
   },
   {
    "duration": 190,
    "start_time": "2022-04-04T06:20:41.823Z"
   },
   {
    "duration": 87,
    "start_time": "2022-04-04T06:20:42.016Z"
   },
   {
    "duration": 97,
    "start_time": "2022-04-04T06:20:42.106Z"
   },
   {
    "duration": 11,
    "start_time": "2022-04-04T06:20:42.205Z"
   },
   {
    "duration": 3,
    "start_time": "2022-04-04T06:20:42.218Z"
   },
   {
    "duration": 9,
    "start_time": "2022-04-04T06:20:42.223Z"
   },
   {
    "duration": 10,
    "start_time": "2022-04-04T06:20:42.234Z"
   },
   {
    "duration": 1355,
    "start_time": "2022-04-04T06:20:42.245Z"
   },
   {
    "duration": 1304,
    "start_time": "2022-04-04T06:20:43.603Z"
   },
   {
    "duration": 1392,
    "start_time": "2022-04-04T06:20:44.909Z"
   },
   {
    "duration": 4,
    "start_time": "2022-04-04T06:32:25.011Z"
   },
   {
    "duration": 6,
    "start_time": "2022-04-04T06:33:17.288Z"
   },
   {
    "duration": 12,
    "start_time": "2022-04-04T06:33:20.607Z"
   },
   {
    "duration": 7,
    "start_time": "2022-04-04T06:41:57.912Z"
   },
   {
    "duration": 10,
    "start_time": "2022-04-04T06:42:00.096Z"
   },
   {
    "duration": 7,
    "start_time": "2022-04-04T06:42:06.976Z"
   },
   {
    "duration": 3,
    "start_time": "2022-04-04T06:42:28.664Z"
   },
   {
    "duration": 6,
    "start_time": "2022-04-04T06:42:53.773Z"
   },
   {
    "duration": 5,
    "start_time": "2022-04-04T06:42:55.717Z"
   },
   {
    "duration": 6,
    "start_time": "2022-04-04T06:43:11.461Z"
   },
   {
    "duration": 7,
    "start_time": "2022-04-04T06:43:20.084Z"
   },
   {
    "duration": 6,
    "start_time": "2022-04-04T06:43:25.107Z"
   },
   {
    "duration": 6,
    "start_time": "2022-04-04T06:43:45.379Z"
   },
   {
    "duration": 7,
    "start_time": "2022-04-04T06:43:47.338Z"
   },
   {
    "duration": 7,
    "start_time": "2022-04-04T06:44:22.601Z"
   },
   {
    "duration": 5,
    "start_time": "2022-04-04T06:44:27.633Z"
   },
   {
    "duration": 1308,
    "start_time": "2022-04-04T06:48:29.647Z"
   },
   {
    "duration": 1328,
    "start_time": "2022-04-04T06:48:41.358Z"
   },
   {
    "duration": 1301,
    "start_time": "2022-04-04T06:52:04.805Z"
   },
   {
    "duration": 1343,
    "start_time": "2022-04-04T06:52:30.300Z"
   },
   {
    "duration": 1357,
    "start_time": "2022-04-04T06:52:42.939Z"
   },
   {
    "duration": 1338,
    "start_time": "2022-04-04T06:53:01.531Z"
   },
   {
    "duration": 1300,
    "start_time": "2022-04-04T06:56:58.112Z"
   },
   {
    "duration": 1442,
    "start_time": "2022-04-04T06:57:25.463Z"
   },
   {
    "duration": 1388,
    "start_time": "2022-04-04T06:59:41.568Z"
   },
   {
    "duration": 1500,
    "start_time": "2022-04-04T06:59:57.591Z"
   },
   {
    "duration": 1245,
    "start_time": "2022-04-04T07:00:27.750Z"
   },
   {
    "duration": 147,
    "start_time": "2022-04-04T07:00:28.997Z"
   },
   {
    "duration": 17,
    "start_time": "2022-04-04T07:00:29.146Z"
   },
   {
    "duration": 137,
    "start_time": "2022-04-04T07:00:29.165Z"
   },
   {
    "duration": 15,
    "start_time": "2022-04-04T07:00:29.304Z"
   },
   {
    "duration": 145,
    "start_time": "2022-04-04T07:00:29.321Z"
   },
   {
    "duration": 16,
    "start_time": "2022-04-04T07:00:29.467Z"
   },
   {
    "duration": 27,
    "start_time": "2022-04-04T07:00:29.485Z"
   },
   {
    "duration": 17,
    "start_time": "2022-04-04T07:00:29.513Z"
   },
   {
    "duration": 35,
    "start_time": "2022-04-04T07:00:29.534Z"
   },
   {
    "duration": 4,
    "start_time": "2022-04-04T07:00:29.571Z"
   },
   {
    "duration": 46,
    "start_time": "2022-04-04T07:00:29.576Z"
   },
   {
    "duration": 108,
    "start_time": "2022-04-04T07:00:29.705Z"
   },
   {
    "duration": 201,
    "start_time": "2022-04-04T07:00:29.815Z"
   },
   {
    "duration": 187,
    "start_time": "2022-04-04T07:00:30.018Z"
   },
   {
    "duration": 30,
    "start_time": "2022-04-04T07:00:30.207Z"
   },
   {
    "duration": 14,
    "start_time": "2022-04-04T07:00:30.240Z"
   },
   {
    "duration": 4,
    "start_time": "2022-04-04T07:00:30.256Z"
   },
   {
    "duration": 1488,
    "start_time": "2022-04-04T07:00:30.261Z"
   },
   {
    "duration": 0,
    "start_time": "2022-04-04T07:00:31.751Z"
   },
   {
    "duration": 0,
    "start_time": "2022-04-04T07:00:31.752Z"
   },
   {
    "duration": 1499,
    "start_time": "2022-04-04T07:01:40.213Z"
   },
   {
    "duration": 1323,
    "start_time": "2022-04-04T07:02:03.284Z"
   },
   {
    "duration": 1326,
    "start_time": "2022-04-04T07:02:32.738Z"
   },
   {
    "duration": 1305,
    "start_time": "2022-04-04T07:02:54.513Z"
   },
   {
    "duration": 1323,
    "start_time": "2022-04-04T07:03:09.088Z"
   },
   {
    "duration": 1309,
    "start_time": "2022-04-04T07:03:37.647Z"
   },
   {
    "duration": 1289,
    "start_time": "2022-04-04T07:03:54.167Z"
   },
   {
    "duration": 1341,
    "start_time": "2022-04-04T07:04:02.438Z"
   },
   {
    "duration": 1292,
    "start_time": "2022-04-04T07:04:50.172Z"
   },
   {
    "duration": 1333,
    "start_time": "2022-04-04T07:05:23.938Z"
   },
   {
    "duration": 1340,
    "start_time": "2022-04-04T07:05:40.526Z"
   },
   {
    "duration": 4,
    "start_time": "2022-04-04T07:06:09.992Z"
   },
   {
    "duration": 1324,
    "start_time": "2022-04-04T07:06:47.815Z"
   },
   {
    "duration": 1450,
    "start_time": "2022-04-04T07:07:05.902Z"
   },
   {
    "duration": 1299,
    "start_time": "2022-04-04T07:07:26.565Z"
   },
   {
    "duration": 1361,
    "start_time": "2022-04-04T07:08:10.211Z"
   },
   {
    "duration": 1305,
    "start_time": "2022-04-04T07:08:49.193Z"
   },
   {
    "duration": 1331,
    "start_time": "2022-04-04T07:09:02.016Z"
   },
   {
    "duration": 1312,
    "start_time": "2022-04-04T07:09:22.383Z"
   },
   {
    "duration": 1211,
    "start_time": "2022-04-04T07:14:32.340Z"
   },
   {
    "duration": 144,
    "start_time": "2022-04-04T07:14:33.554Z"
   },
   {
    "duration": 16,
    "start_time": "2022-04-04T07:14:33.704Z"
   },
   {
    "duration": 145,
    "start_time": "2022-04-04T07:14:33.723Z"
   },
   {
    "duration": 16,
    "start_time": "2022-04-04T07:14:33.870Z"
   },
   {
    "duration": 135,
    "start_time": "2022-04-04T07:14:33.901Z"
   },
   {
    "duration": 16,
    "start_time": "2022-04-04T07:14:34.038Z"
   },
   {
    "duration": 19,
    "start_time": "2022-04-04T07:14:34.056Z"
   },
   {
    "duration": 29,
    "start_time": "2022-04-04T07:14:34.078Z"
   },
   {
    "duration": 45,
    "start_time": "2022-04-04T07:14:34.108Z"
   },
   {
    "duration": 4,
    "start_time": "2022-04-04T07:14:34.155Z"
   },
   {
    "duration": 140,
    "start_time": "2022-04-04T07:14:34.160Z"
   },
   {
    "duration": 106,
    "start_time": "2022-04-04T07:14:34.304Z"
   },
   {
    "duration": 190,
    "start_time": "2022-04-04T07:14:34.412Z"
   },
   {
    "duration": 100,
    "start_time": "2022-04-04T07:14:34.604Z"
   },
   {
    "duration": 18,
    "start_time": "2022-04-04T07:14:34.705Z"
   },
   {
    "duration": 17,
    "start_time": "2022-04-04T07:14:34.725Z"
   },
   {
    "duration": 4,
    "start_time": "2022-04-04T07:14:34.743Z"
   },
   {
    "duration": 1329,
    "start_time": "2022-04-04T07:14:34.749Z"
   },
   {
    "duration": 1307,
    "start_time": "2022-04-04T07:14:36.080Z"
   },
   {
    "duration": 1401,
    "start_time": "2022-04-04T07:14:37.389Z"
   },
   {
    "duration": 52,
    "start_time": "2022-04-05T09:24:12.788Z"
   },
   {
    "duration": 1193,
    "start_time": "2022-04-05T09:25:47.257Z"
   },
   {
    "duration": 141,
    "start_time": "2022-04-05T09:25:48.453Z"
   },
   {
    "duration": 16,
    "start_time": "2022-04-05T09:25:48.596Z"
   },
   {
    "duration": 127,
    "start_time": "2022-04-05T09:25:48.614Z"
   },
   {
    "duration": 15,
    "start_time": "2022-04-05T09:25:48.743Z"
   },
   {
    "duration": 136,
    "start_time": "2022-04-05T09:25:48.760Z"
   },
   {
    "duration": 14,
    "start_time": "2022-04-05T09:25:48.898Z"
   },
   {
    "duration": 24,
    "start_time": "2022-04-05T09:25:48.914Z"
   },
   {
    "duration": 12,
    "start_time": "2022-04-05T09:25:48.940Z"
   },
   {
    "duration": 41,
    "start_time": "2022-04-05T09:25:48.954Z"
   },
   {
    "duration": 4,
    "start_time": "2022-04-05T09:25:48.996Z"
   },
   {
    "duration": 36,
    "start_time": "2022-04-05T09:25:49.001Z"
   },
   {
    "duration": 197,
    "start_time": "2022-04-05T09:25:49.040Z"
   },
   {
    "duration": 191,
    "start_time": "2022-04-05T09:25:49.240Z"
   },
   {
    "duration": 6,
    "start_time": "2022-04-05T09:25:49.435Z"
   },
   {
    "duration": 8,
    "start_time": "2022-04-05T09:25:49.532Z"
   },
   {
    "duration": 18,
    "start_time": "2022-04-05T09:25:49.541Z"
   },
   {
    "duration": 4,
    "start_time": "2022-04-05T09:25:49.560Z"
   },
   {
    "duration": 1497,
    "start_time": "2022-04-05T09:25:49.566Z"
   },
   {
    "duration": 1471,
    "start_time": "2022-04-05T09:25:51.065Z"
   },
   {
    "duration": 1465,
    "start_time": "2022-04-05T09:25:52.538Z"
   },
   {
    "duration": 4,
    "start_time": "2022-04-05T09:28:22.652Z"
   },
   {
    "duration": 2883,
    "start_time": "2022-04-05T09:28:27.499Z"
   },
   {
    "duration": 3,
    "start_time": "2022-04-05T09:28:57.874Z"
   },
   {
    "duration": 2065,
    "start_time": "2022-04-05T09:29:00.410Z"
   },
   {
    "duration": 4,
    "start_time": "2022-04-05T11:13:56.324Z"
   },
   {
    "duration": 2261,
    "start_time": "2022-04-05T11:13:59.701Z"
   },
   {
    "duration": 4,
    "start_time": "2022-04-05T11:14:24.419Z"
   },
   {
    "duration": 1942,
    "start_time": "2022-04-05T11:14:27.427Z"
   },
   {
    "duration": 7,
    "start_time": "2022-04-05T11:17:07.316Z"
   },
   {
    "duration": 11,
    "start_time": "2022-04-05T11:17:11.228Z"
   },
   {
    "duration": 4,
    "start_time": "2022-04-05T11:18:17.593Z"
   },
   {
    "duration": 1925,
    "start_time": "2022-04-05T11:18:20.953Z"
   },
   {
    "duration": 4,
    "start_time": "2022-04-05T11:18:33.889Z"
   },
   {
    "duration": 1983,
    "start_time": "2022-04-05T11:18:37.169Z"
   },
   {
    "duration": 4,
    "start_time": "2022-04-05T11:19:44.461Z"
   },
   {
    "duration": 3,
    "start_time": "2022-04-05T11:19:48.285Z"
   },
   {
    "duration": 3,
    "start_time": "2022-04-05T11:19:51.717Z"
   },
   {
    "duration": 4,
    "start_time": "2022-04-05T11:20:05.836Z"
   },
   {
    "duration": 8,
    "start_time": "2022-04-05T11:20:49.866Z"
   },
   {
    "duration": 10,
    "start_time": "2022-04-05T11:20:52.362Z"
   },
   {
    "duration": 7,
    "start_time": "2022-04-05T11:21:06.955Z"
   },
   {
    "duration": 10,
    "start_time": "2022-04-05T11:21:09.725Z"
   },
   {
    "duration": 7,
    "start_time": "2022-04-05T11:21:38.649Z"
   },
   {
    "duration": 10,
    "start_time": "2022-04-05T11:21:40.440Z"
   },
   {
    "duration": 4,
    "start_time": "2022-04-05T11:23:12.196Z"
   },
   {
    "duration": 1453,
    "start_time": "2022-04-05T11:24:21.737Z"
   },
   {
    "duration": 2031,
    "start_time": "2022-04-05T11:24:50.624Z"
   },
   {
    "duration": 2019,
    "start_time": "2022-04-05T11:25:18.351Z"
   },
   {
    "duration": 899,
    "start_time": "2022-04-05T12:24:43.586Z"
   },
   {
    "duration": 4,
    "start_time": "2022-04-05T12:25:35.327Z"
   },
   {
    "duration": 657,
    "start_time": "2022-04-05T12:25:38.470Z"
   },
   {
    "duration": 5,
    "start_time": "2022-04-05T12:26:15.053Z"
   },
   {
    "duration": 1421,
    "start_time": "2022-04-05T12:26:18.676Z"
   },
   {
    "duration": 4,
    "start_time": "2022-04-05T12:26:35.325Z"
   },
   {
    "duration": 1056,
    "start_time": "2022-04-05T12:26:37.612Z"
   },
   {
    "duration": 4,
    "start_time": "2022-04-05T12:26:49.989Z"
   },
   {
    "duration": 692,
    "start_time": "2022-04-05T12:27:15.106Z"
   },
   {
    "duration": 690,
    "start_time": "2022-04-05T12:30:32.698Z"
   },
   {
    "duration": 674,
    "start_time": "2022-04-05T12:31:32.448Z"
   },
   {
    "duration": 1264,
    "start_time": "2022-04-05T12:34:15.297Z"
   },
   {
    "duration": 147,
    "start_time": "2022-04-05T12:34:16.563Z"
   },
   {
    "duration": 21,
    "start_time": "2022-04-05T12:34:16.712Z"
   },
   {
    "duration": 132,
    "start_time": "2022-04-05T12:34:16.735Z"
   },
   {
    "duration": 16,
    "start_time": "2022-04-05T12:34:16.870Z"
   },
   {
    "duration": 140,
    "start_time": "2022-04-05T12:34:16.888Z"
   },
   {
    "duration": 15,
    "start_time": "2022-04-05T12:34:17.031Z"
   },
   {
    "duration": 13,
    "start_time": "2022-04-05T12:34:17.048Z"
   },
   {
    "duration": 17,
    "start_time": "2022-04-05T12:34:17.063Z"
   },
   {
    "duration": 56,
    "start_time": "2022-04-05T12:34:17.082Z"
   },
   {
    "duration": 4,
    "start_time": "2022-04-05T12:34:17.140Z"
   },
   {
    "duration": 88,
    "start_time": "2022-04-05T12:34:17.146Z"
   },
   {
    "duration": 111,
    "start_time": "2022-04-05T12:34:17.236Z"
   },
   {
    "duration": 186,
    "start_time": "2022-04-05T12:34:17.351Z"
   },
   {
    "duration": 96,
    "start_time": "2022-04-05T12:34:17.539Z"
   },
   {
    "duration": 100,
    "start_time": "2022-04-05T12:34:17.638Z"
   },
   {
    "duration": 13,
    "start_time": "2022-04-05T12:34:17.740Z"
   },
   {
    "duration": 4,
    "start_time": "2022-04-05T12:34:17.755Z"
   },
   {
    "duration": 701,
    "start_time": "2022-04-05T12:34:17.760Z"
   },
   {
    "duration": 673,
    "start_time": "2022-04-05T12:34:18.462Z"
   },
   {
    "duration": 659,
    "start_time": "2022-04-05T12:34:19.137Z"
   }
  ],
  "kernelspec": {
   "display_name": "Python 3 (ipykernel)",
   "language": "python",
   "name": "python3"
  },
  "language_info": {
   "codemirror_mode": {
    "name": "ipython",
    "version": 3
   },
   "file_extension": ".py",
   "mimetype": "text/x-python",
   "name": "python",
   "nbconvert_exporter": "python",
   "pygments_lexer": "ipython3",
   "version": "3.9.7"
  },
  "toc": {
   "base_numbering": 1,
   "nav_menu": {},
   "number_sections": true,
   "sideBar": true,
   "skip_h1_title": true,
   "title_cell": "Table of Contents",
   "title_sidebar": "Contents",
   "toc_cell": false,
   "toc_position": {},
   "toc_section_display": true,
   "toc_window_display": false
  }
 },
 "nbformat": 4,
 "nbformat_minor": 2
}
