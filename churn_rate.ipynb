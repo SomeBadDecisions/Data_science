{
 "cells": [
  {
   "cell_type": "markdown",
   "metadata": {
    "toc": true
   },
   "source": [
    "<h1>Содержание<span class=\"tocSkip\"></span></h1>\n",
    "<div class=\"toc\"><ul class=\"toc-item\"><li><span><a href=\"#Подготовка-данных\" data-toc-modified-id=\"Подготовка-данных-1\"><span class=\"toc-item-num\">1&nbsp;&nbsp;</span>Подготовка данных</a></span></li><li><span><a href=\"#Исследование-задачи\" data-toc-modified-id=\"Исследование-задачи-2\"><span class=\"toc-item-num\">2&nbsp;&nbsp;</span>Исследование задачи</a></span></li><li><span><a href=\"#Борьба-с-дисбалансом\" data-toc-modified-id=\"Борьба-с-дисбалансом-3\"><span class=\"toc-item-num\">3&nbsp;&nbsp;</span>Борьба с дисбалансом</a></span></li><li><span><a href=\"#Тестирование-модели\" data-toc-modified-id=\"Тестирование-модели-4\"><span class=\"toc-item-num\">4&nbsp;&nbsp;</span>Тестирование модели</a></span></li><li><span><a href=\"#Чек-лист-готовности-проекта\" data-toc-modified-id=\"Чек-лист-готовности-проекта-5\"><span class=\"toc-item-num\">5&nbsp;&nbsp;</span>Чек-лист готовности проекта</a></span></li></ul></div>"
   ]
  },
  {
   "cell_type": "markdown",
   "metadata": {},
   "source": [
    "# Отток клиентов"
   ]
  },
  {
   "cell_type": "markdown",
   "metadata": {},
   "source": [
    "Из «Бета-Банка» стали уходить клиенты. Каждый месяц. Немного, но заметно. Банковские маркетологи посчитали: сохранять текущих клиентов дешевле, чем привлекать новых.\n",
    "\n",
    "Нужно спрогнозировать, уйдёт клиент из банка в ближайшее время или нет. Вам предоставлены исторические данные о поведении клиентов и расторжении договоров с банком. \n",
    "\n",
    "Постройте модель с предельно большим значением *F1*-меры. Чтобы сдать проект успешно, нужно довести метрику до 0.59. Проверьте *F1*-меру на тестовой выборке самостоятельно.\n",
    "\n",
    "Дополнительно измеряйте *AUC-ROC*, сравнивайте её значение с *F1*-мерой.\n",
    "\n",
    "Источник данных: [https://www.kaggle.com/barelydedicated/bank-customer-churn-modeling](https://www.kaggle.com/barelydedicated/bank-customer-churn-modeling)"
   ]
  },
  {
   "cell_type": "markdown",
   "metadata": {},
   "source": [
    "**Таблица churn содержит следующие столбцы:**\n",
    "\n",
    "* `RowNumber` — индекс строки в данных\n",
    "* `CustomerId` — уникальный идентификатор клиента\n",
    "* `Surname` — фамилия\n",
    "* `CreditScore` — кредитный рейтинг\n",
    "* `Geography` — страна проживания\n",
    "* `Gender` — пол\n",
    "* `Age` — возраст\n",
    "* `Tenure` — сколько лет человек является клиентом банка\n",
    "* `Balance` — баланс на счёте\n",
    "* `NumOfProducts` — количество продуктов банка, используемых клиентом\n",
    "* `HasCrCard` — наличие кредитной карты\n",
    "* `IsActiveMember` — активность клиента\n",
    "* `EstimatedSalary` — предполагаемая зарплата\n",
    "* `Exited` — факт ухода клиента (целевой признак)"
   ]
  },
  {
   "cell_type": "markdown",
   "metadata": {},
   "source": [
    "## Подготовка данных"
   ]
  },
  {
   "cell_type": "code",
   "execution_count": 1,
   "metadata": {},
   "outputs": [],
   "source": [
    "import pandas as pd\n",
    "from sklearn.model_selection import train_test_split\n",
    "from sklearn.preprocessing import StandardScaler\n",
    "from sklearn.linear_model import LogisticRegression\n",
    "from sklearn.tree import DecisionTreeClassifier\n",
    "from sklearn.ensemble import RandomForestClassifier\n",
    "from sklearn.metrics import f1_score\n",
    "from sklearn.metrics import roc_auc_score\n",
    "from sklearn.utils import shuffle"
   ]
  },
  {
   "cell_type": "code",
   "execution_count": 2,
   "metadata": {
    "scrolled": true
   },
   "outputs": [
    {
     "data": {
      "text/html": [
       "<div>\n",
       "<style scoped>\n",
       "    .dataframe tbody tr th:only-of-type {\n",
       "        vertical-align: middle;\n",
       "    }\n",
       "\n",
       "    .dataframe tbody tr th {\n",
       "        vertical-align: top;\n",
       "    }\n",
       "\n",
       "    .dataframe thead th {\n",
       "        text-align: right;\n",
       "    }\n",
       "</style>\n",
       "<table border=\"1\" class=\"dataframe\">\n",
       "  <thead>\n",
       "    <tr style=\"text-align: right;\">\n",
       "      <th></th>\n",
       "      <th>RowNumber</th>\n",
       "      <th>CustomerId</th>\n",
       "      <th>Surname</th>\n",
       "      <th>CreditScore</th>\n",
       "      <th>Geography</th>\n",
       "      <th>Gender</th>\n",
       "      <th>Age</th>\n",
       "      <th>Tenure</th>\n",
       "      <th>Balance</th>\n",
       "      <th>NumOfProducts</th>\n",
       "      <th>HasCrCard</th>\n",
       "      <th>IsActiveMember</th>\n",
       "      <th>EstimatedSalary</th>\n",
       "      <th>Exited</th>\n",
       "    </tr>\n",
       "  </thead>\n",
       "  <tbody>\n",
       "    <tr>\n",
       "      <th>0</th>\n",
       "      <td>1</td>\n",
       "      <td>15634602</td>\n",
       "      <td>Hargrave</td>\n",
       "      <td>619</td>\n",
       "      <td>France</td>\n",
       "      <td>Female</td>\n",
       "      <td>42</td>\n",
       "      <td>2.0</td>\n",
       "      <td>0.00</td>\n",
       "      <td>1</td>\n",
       "      <td>1</td>\n",
       "      <td>1</td>\n",
       "      <td>101348.88</td>\n",
       "      <td>1</td>\n",
       "    </tr>\n",
       "    <tr>\n",
       "      <th>1</th>\n",
       "      <td>2</td>\n",
       "      <td>15647311</td>\n",
       "      <td>Hill</td>\n",
       "      <td>608</td>\n",
       "      <td>Spain</td>\n",
       "      <td>Female</td>\n",
       "      <td>41</td>\n",
       "      <td>1.0</td>\n",
       "      <td>83807.86</td>\n",
       "      <td>1</td>\n",
       "      <td>0</td>\n",
       "      <td>1</td>\n",
       "      <td>112542.58</td>\n",
       "      <td>0</td>\n",
       "    </tr>\n",
       "    <tr>\n",
       "      <th>2</th>\n",
       "      <td>3</td>\n",
       "      <td>15619304</td>\n",
       "      <td>Onio</td>\n",
       "      <td>502</td>\n",
       "      <td>France</td>\n",
       "      <td>Female</td>\n",
       "      <td>42</td>\n",
       "      <td>8.0</td>\n",
       "      <td>159660.80</td>\n",
       "      <td>3</td>\n",
       "      <td>1</td>\n",
       "      <td>0</td>\n",
       "      <td>113931.57</td>\n",
       "      <td>1</td>\n",
       "    </tr>\n",
       "    <tr>\n",
       "      <th>3</th>\n",
       "      <td>4</td>\n",
       "      <td>15701354</td>\n",
       "      <td>Boni</td>\n",
       "      <td>699</td>\n",
       "      <td>France</td>\n",
       "      <td>Female</td>\n",
       "      <td>39</td>\n",
       "      <td>1.0</td>\n",
       "      <td>0.00</td>\n",
       "      <td>2</td>\n",
       "      <td>0</td>\n",
       "      <td>0</td>\n",
       "      <td>93826.63</td>\n",
       "      <td>0</td>\n",
       "    </tr>\n",
       "    <tr>\n",
       "      <th>4</th>\n",
       "      <td>5</td>\n",
       "      <td>15737888</td>\n",
       "      <td>Mitchell</td>\n",
       "      <td>850</td>\n",
       "      <td>Spain</td>\n",
       "      <td>Female</td>\n",
       "      <td>43</td>\n",
       "      <td>2.0</td>\n",
       "      <td>125510.82</td>\n",
       "      <td>1</td>\n",
       "      <td>1</td>\n",
       "      <td>1</td>\n",
       "      <td>79084.10</td>\n",
       "      <td>0</td>\n",
       "    </tr>\n",
       "  </tbody>\n",
       "</table>\n",
       "</div>"
      ],
      "text/plain": [
       "   RowNumber  CustomerId   Surname  CreditScore Geography  Gender  Age  \\\n",
       "0          1    15634602  Hargrave          619    France  Female   42   \n",
       "1          2    15647311      Hill          608     Spain  Female   41   \n",
       "2          3    15619304      Onio          502    France  Female   42   \n",
       "3          4    15701354      Boni          699    France  Female   39   \n",
       "4          5    15737888  Mitchell          850     Spain  Female   43   \n",
       "\n",
       "   Tenure    Balance  NumOfProducts  HasCrCard  IsActiveMember  \\\n",
       "0     2.0       0.00              1          1               1   \n",
       "1     1.0   83807.86              1          0               1   \n",
       "2     8.0  159660.80              3          1               0   \n",
       "3     1.0       0.00              2          0               0   \n",
       "4     2.0  125510.82              1          1               1   \n",
       "\n",
       "   EstimatedSalary  Exited  \n",
       "0        101348.88       1  \n",
       "1        112542.58       0  \n",
       "2        113931.57       1  \n",
       "3         93826.63       0  \n",
       "4         79084.10       0  "
      ]
     },
     "execution_count": 2,
     "metadata": {},
     "output_type": "execute_result"
    }
   ],
   "source": [
    "churn = pd.read_csv('/datasets/Churn.csv')\n",
    "churn.head()"
   ]
  },
  {
   "cell_type": "code",
   "execution_count": 3,
   "metadata": {
    "scrolled": true
   },
   "outputs": [
    {
     "name": "stdout",
     "output_type": "stream",
     "text": [
      "<class 'pandas.core.frame.DataFrame'>\n",
      "RangeIndex: 10000 entries, 0 to 9999\n",
      "Data columns (total 14 columns):\n",
      " #   Column           Non-Null Count  Dtype  \n",
      "---  ------           --------------  -----  \n",
      " 0   RowNumber        10000 non-null  int64  \n",
      " 1   CustomerId       10000 non-null  int64  \n",
      " 2   Surname          10000 non-null  object \n",
      " 3   CreditScore      10000 non-null  int64  \n",
      " 4   Geography        10000 non-null  object \n",
      " 5   Gender           10000 non-null  object \n",
      " 6   Age              10000 non-null  int64  \n",
      " 7   Tenure           9091 non-null   float64\n",
      " 8   Balance          10000 non-null  float64\n",
      " 9   NumOfProducts    10000 non-null  int64  \n",
      " 10  HasCrCard        10000 non-null  int64  \n",
      " 11  IsActiveMember   10000 non-null  int64  \n",
      " 12  EstimatedSalary  10000 non-null  float64\n",
      " 13  Exited           10000 non-null  int64  \n",
      "dtypes: float64(3), int64(8), object(3)\n",
      "memory usage: 1.1+ MB\n"
     ]
    }
   ],
   "source": [
    "churn.info()"
   ]
  },
  {
   "cell_type": "markdown",
   "metadata": {},
   "source": [
    "**В столбце tenure есть NaN, посмотрим значения:**"
   ]
  },
  {
   "cell_type": "code",
   "execution_count": 4,
   "metadata": {
    "scrolled": false
   },
   "outputs": [
    {
     "data": {
      "text/plain": [
       "1.0     952\n",
       "2.0     950\n",
       "8.0     933\n",
       "3.0     928\n",
       "5.0     927\n",
       "7.0     925\n",
       "4.0     885\n",
       "9.0     882\n",
       "6.0     881\n",
       "10.0    446\n",
       "0.0     382\n",
       "Name: Tenure, dtype: int64"
      ]
     },
     "execution_count": 4,
     "metadata": {},
     "output_type": "execute_result"
    }
   ],
   "source": [
    "churn['Tenure'].value_counts()"
   ]
  },
  {
   "cell_type": "code",
   "execution_count": 5,
   "metadata": {},
   "outputs": [],
   "source": [
    "churn['Tenure'] = churn['Tenure'].fillna(0)"
   ]
  },
  {
   "cell_type": "markdown",
   "metadata": {},
   "source": [
    "**Заполним все пропуски нулями, это лучше, чем дропать 10% данных, т.к. все остальные признаки заполнены адекватно, заполнять медианным значением не выглядит правильным**"
   ]
  },
  {
   "cell_type": "code",
   "execution_count": 6,
   "metadata": {},
   "outputs": [
    {
     "data": {
      "text/plain": [
       "0.0     1291\n",
       "1.0      952\n",
       "2.0      950\n",
       "8.0      933\n",
       "3.0      928\n",
       "5.0      927\n",
       "7.0      925\n",
       "4.0      885\n",
       "9.0      882\n",
       "6.0      881\n",
       "10.0     446\n",
       "Name: Tenure, dtype: int64"
      ]
     },
     "execution_count": 6,
     "metadata": {},
     "output_type": "execute_result"
    }
   ],
   "source": [
    "churn['Tenure'].value_counts()"
   ]
  },
  {
   "cell_type": "markdown",
   "metadata": {},
   "source": [
    "**Переведем столбцы из camel case'а в snake case, так привычнее**"
   ]
  },
  {
   "cell_type": "code",
   "execution_count": 7,
   "metadata": {},
   "outputs": [],
   "source": [
    "churn.columns = [i.lower() for i in churn.columns]"
   ]
  },
  {
   "cell_type": "code",
   "execution_count": 8,
   "metadata": {},
   "outputs": [],
   "source": [
    "churn.rename(columns={\"rownumber\":\"row_number\",\n",
    "                      \"customerid\":\"customer_id\",\n",
    "                      \"creditscore\":\"credit_score\",\n",
    "                      \"numofproducts\":\"num_of_products\",\n",
    "                      \"hascrcard\":\"has_cr_card\",\n",
    "                      \"isactivemember\":\"is_active_member\",\n",
    "                      \"estimatedsalary\":\"estimated_salary\"\n",
    "                      }, inplace=True)"
   ]
  },
  {
   "cell_type": "code",
   "execution_count": 9,
   "metadata": {
    "scrolled": true
   },
   "outputs": [
    {
     "data": {
      "text/plain": [
       "Index(['row_number', 'customer_id', 'surname', 'credit_score', 'geography',\n",
       "       'gender', 'age', 'tenure', 'balance', 'num_of_products', 'has_cr_card',\n",
       "       'is_active_member', 'estimated_salary', 'exited'],\n",
       "      dtype='object')"
      ]
     },
     "execution_count": 9,
     "metadata": {},
     "output_type": "execute_result"
    }
   ],
   "source": [
    "churn.columns"
   ]
  },
  {
   "cell_type": "markdown",
   "metadata": {},
   "source": [
    "**Для дальнейшего исследования нам не нужны столбцы row_number, customer_id и surname, дропнем их**"
   ]
  },
  {
   "cell_type": "code",
   "execution_count": 10,
   "metadata": {},
   "outputs": [],
   "source": [
    "churn = churn.drop({\"row_number\", \"customer_id\", \"surname\"}, axis=1)"
   ]
  },
  {
   "cell_type": "code",
   "execution_count": 11,
   "metadata": {
    "scrolled": true
   },
   "outputs": [
    {
     "data": {
      "text/html": [
       "<div>\n",
       "<style scoped>\n",
       "    .dataframe tbody tr th:only-of-type {\n",
       "        vertical-align: middle;\n",
       "    }\n",
       "\n",
       "    .dataframe tbody tr th {\n",
       "        vertical-align: top;\n",
       "    }\n",
       "\n",
       "    .dataframe thead th {\n",
       "        text-align: right;\n",
       "    }\n",
       "</style>\n",
       "<table border=\"1\" class=\"dataframe\">\n",
       "  <thead>\n",
       "    <tr style=\"text-align: right;\">\n",
       "      <th></th>\n",
       "      <th>credit_score</th>\n",
       "      <th>geography</th>\n",
       "      <th>gender</th>\n",
       "      <th>age</th>\n",
       "      <th>tenure</th>\n",
       "      <th>balance</th>\n",
       "      <th>num_of_products</th>\n",
       "      <th>has_cr_card</th>\n",
       "      <th>is_active_member</th>\n",
       "      <th>estimated_salary</th>\n",
       "      <th>exited</th>\n",
       "    </tr>\n",
       "  </thead>\n",
       "  <tbody>\n",
       "    <tr>\n",
       "      <th>0</th>\n",
       "      <td>619</td>\n",
       "      <td>France</td>\n",
       "      <td>Female</td>\n",
       "      <td>42</td>\n",
       "      <td>2.0</td>\n",
       "      <td>0.00</td>\n",
       "      <td>1</td>\n",
       "      <td>1</td>\n",
       "      <td>1</td>\n",
       "      <td>101348.88</td>\n",
       "      <td>1</td>\n",
       "    </tr>\n",
       "    <tr>\n",
       "      <th>1</th>\n",
       "      <td>608</td>\n",
       "      <td>Spain</td>\n",
       "      <td>Female</td>\n",
       "      <td>41</td>\n",
       "      <td>1.0</td>\n",
       "      <td>83807.86</td>\n",
       "      <td>1</td>\n",
       "      <td>0</td>\n",
       "      <td>1</td>\n",
       "      <td>112542.58</td>\n",
       "      <td>0</td>\n",
       "    </tr>\n",
       "    <tr>\n",
       "      <th>2</th>\n",
       "      <td>502</td>\n",
       "      <td>France</td>\n",
       "      <td>Female</td>\n",
       "      <td>42</td>\n",
       "      <td>8.0</td>\n",
       "      <td>159660.80</td>\n",
       "      <td>3</td>\n",
       "      <td>1</td>\n",
       "      <td>0</td>\n",
       "      <td>113931.57</td>\n",
       "      <td>1</td>\n",
       "    </tr>\n",
       "    <tr>\n",
       "      <th>3</th>\n",
       "      <td>699</td>\n",
       "      <td>France</td>\n",
       "      <td>Female</td>\n",
       "      <td>39</td>\n",
       "      <td>1.0</td>\n",
       "      <td>0.00</td>\n",
       "      <td>2</td>\n",
       "      <td>0</td>\n",
       "      <td>0</td>\n",
       "      <td>93826.63</td>\n",
       "      <td>0</td>\n",
       "    </tr>\n",
       "    <tr>\n",
       "      <th>4</th>\n",
       "      <td>850</td>\n",
       "      <td>Spain</td>\n",
       "      <td>Female</td>\n",
       "      <td>43</td>\n",
       "      <td>2.0</td>\n",
       "      <td>125510.82</td>\n",
       "      <td>1</td>\n",
       "      <td>1</td>\n",
       "      <td>1</td>\n",
       "      <td>79084.10</td>\n",
       "      <td>0</td>\n",
       "    </tr>\n",
       "  </tbody>\n",
       "</table>\n",
       "</div>"
      ],
      "text/plain": [
       "   credit_score geography  gender  age  tenure    balance  num_of_products  \\\n",
       "0           619    France  Female   42     2.0       0.00                1   \n",
       "1           608     Spain  Female   41     1.0   83807.86                1   \n",
       "2           502    France  Female   42     8.0  159660.80                3   \n",
       "3           699    France  Female   39     1.0       0.00                2   \n",
       "4           850     Spain  Female   43     2.0  125510.82                1   \n",
       "\n",
       "   has_cr_card  is_active_member  estimated_salary  exited  \n",
       "0            1                 1         101348.88       1  \n",
       "1            0                 1         112542.58       0  \n",
       "2            1                 0         113931.57       1  \n",
       "3            0                 0          93826.63       0  \n",
       "4            1                 1          79084.10       0  "
      ]
     },
     "execution_count": 11,
     "metadata": {},
     "output_type": "execute_result"
    }
   ],
   "source": [
    "churn.head()"
   ]
  },
  {
   "cell_type": "markdown",
   "metadata": {},
   "source": [
    "## Исследование задачи"
   ]
  },
  {
   "cell_type": "markdown",
   "metadata": {},
   "source": [
    "**Преобразуем категориальные признаки техникой One Hot Encoding**"
   ]
  },
  {
   "cell_type": "code",
   "execution_count": 12,
   "metadata": {},
   "outputs": [],
   "source": [
    "churn_ohe = pd.get_dummies(churn, drop_first=True)"
   ]
  },
  {
   "cell_type": "markdown",
   "metadata": {},
   "source": [
    "**Выделим целевой признак и разобьем данные на выборки**"
   ]
  },
  {
   "cell_type": "code",
   "execution_count": 13,
   "metadata": {},
   "outputs": [],
   "source": [
    "features = churn_ohe.drop('exited', axis=1)\n",
    "target = churn_ohe['exited']"
   ]
  },
  {
   "cell_type": "code",
   "execution_count": 14,
   "metadata": {},
   "outputs": [],
   "source": [
    "features_train, features_valid, target_train, target_valid = train_test_split (\n",
    "    features, target, test_size=0.4, random_state=0)\n",
    "\n",
    "features_valid, features_test, target_valid, target_test = train_test_split (\n",
    "    features_valid, target_valid, test_size=0.5, random_state=0)"
   ]
  },
  {
   "cell_type": "markdown",
   "metadata": {},
   "source": [
    "**Приведем признаки к одному масштабу**"
   ]
  },
  {
   "cell_type": "code",
   "execution_count": 15,
   "metadata": {},
   "outputs": [],
   "source": [
    "numeric = ['credit_score', 'age', 'tenure', 'balance', 'num_of_products', 'has_cr_card', 'is_active_member', 'estimated_salary']"
   ]
  },
  {
   "cell_type": "code",
   "execution_count": 16,
   "metadata": {
    "scrolled": true
   },
   "outputs": [
    {
     "name": "stderr",
     "output_type": "stream",
     "text": [
      "/tmp/ipykernel_67/627840052.py:4: SettingWithCopyWarning: \n",
      "A value is trying to be set on a copy of a slice from a DataFrame.\n",
      "Try using .loc[row_indexer,col_indexer] = value instead\n",
      "\n",
      "See the caveats in the documentation: https://pandas.pydata.org/pandas-docs/stable/user_guide/indexing.html#returning-a-view-versus-a-copy\n",
      "  features_train[numeric] = scaler.transform(features_train[numeric])\n",
      "/opt/conda/lib/python3.9/site-packages/pandas/core/indexing.py:1738: SettingWithCopyWarning: \n",
      "A value is trying to be set on a copy of a slice from a DataFrame.\n",
      "Try using .loc[row_indexer,col_indexer] = value instead\n",
      "\n",
      "See the caveats in the documentation: https://pandas.pydata.org/pandas-docs/stable/user_guide/indexing.html#returning-a-view-versus-a-copy\n",
      "  self._setitem_single_column(loc, value[:, i].tolist(), pi)\n"
     ]
    }
   ],
   "source": [
    "scaler = StandardScaler()\n",
    "scaler.fit(features_train[numeric])\n",
    "\n",
    "features_train[numeric] = scaler.transform(features_train[numeric])\n",
    "features_valid[numeric] = scaler.transform(features_valid[numeric])\n",
    "features_test[numeric] = scaler.transform(features_test[numeric])"
   ]
  },
  {
   "cell_type": "code",
   "execution_count": 17,
   "metadata": {
    "scrolled": true
   },
   "outputs": [
    {
     "data": {
      "text/html": [
       "<div>\n",
       "<style scoped>\n",
       "    .dataframe tbody tr th:only-of-type {\n",
       "        vertical-align: middle;\n",
       "    }\n",
       "\n",
       "    .dataframe tbody tr th {\n",
       "        vertical-align: top;\n",
       "    }\n",
       "\n",
       "    .dataframe thead th {\n",
       "        text-align: right;\n",
       "    }\n",
       "</style>\n",
       "<table border=\"1\" class=\"dataframe\">\n",
       "  <thead>\n",
       "    <tr style=\"text-align: right;\">\n",
       "      <th></th>\n",
       "      <th>credit_score</th>\n",
       "      <th>age</th>\n",
       "      <th>tenure</th>\n",
       "      <th>balance</th>\n",
       "      <th>num_of_products</th>\n",
       "      <th>has_cr_card</th>\n",
       "      <th>is_active_member</th>\n",
       "      <th>estimated_salary</th>\n",
       "      <th>geography_Germany</th>\n",
       "      <th>geography_Spain</th>\n",
       "      <th>gender_Male</th>\n",
       "    </tr>\n",
       "  </thead>\n",
       "  <tbody>\n",
       "    <tr>\n",
       "      <th>7809</th>\n",
       "      <td>-0.744432</td>\n",
       "      <td>0.400729</td>\n",
       "      <td>-0.810507</td>\n",
       "      <td>1.123796</td>\n",
       "      <td>-0.936474</td>\n",
       "      <td>0.642724</td>\n",
       "      <td>0.966881</td>\n",
       "      <td>1.702726</td>\n",
       "      <td>0</td>\n",
       "      <td>1</td>\n",
       "      <td>1</td>\n",
       "    </tr>\n",
       "    <tr>\n",
       "      <th>5279</th>\n",
       "      <td>0.009441</td>\n",
       "      <td>0.111996</td>\n",
       "      <td>0.792130</td>\n",
       "      <td>0.401011</td>\n",
       "      <td>-0.936474</td>\n",
       "      <td>0.642724</td>\n",
       "      <td>0.966881</td>\n",
       "      <td>0.422349</td>\n",
       "      <td>0</td>\n",
       "      <td>1</td>\n",
       "      <td>0</td>\n",
       "    </tr>\n",
       "    <tr>\n",
       "      <th>3279</th>\n",
       "      <td>0.009441</td>\n",
       "      <td>-0.176737</td>\n",
       "      <td>-1.451562</td>\n",
       "      <td>-1.199501</td>\n",
       "      <td>0.798808</td>\n",
       "      <td>0.642724</td>\n",
       "      <td>-1.034253</td>\n",
       "      <td>-0.544388</td>\n",
       "      <td>0</td>\n",
       "      <td>1</td>\n",
       "      <td>1</td>\n",
       "    </tr>\n",
       "    <tr>\n",
       "      <th>8984</th>\n",
       "      <td>-0.062849</td>\n",
       "      <td>-1.331668</td>\n",
       "      <td>-1.451562</td>\n",
       "      <td>1.578702</td>\n",
       "      <td>-0.936474</td>\n",
       "      <td>0.642724</td>\n",
       "      <td>-1.034253</td>\n",
       "      <td>-0.997245</td>\n",
       "      <td>0</td>\n",
       "      <td>0</td>\n",
       "      <td>1</td>\n",
       "    </tr>\n",
       "    <tr>\n",
       "      <th>8466</th>\n",
       "      <td>-0.393313</td>\n",
       "      <td>-0.272981</td>\n",
       "      <td>1.433185</td>\n",
       "      <td>0.892225</td>\n",
       "      <td>-0.936474</td>\n",
       "      <td>-1.555877</td>\n",
       "      <td>-1.034253</td>\n",
       "      <td>-0.292067</td>\n",
       "      <td>0</td>\n",
       "      <td>0</td>\n",
       "      <td>1</td>\n",
       "    </tr>\n",
       "  </tbody>\n",
       "</table>\n",
       "</div>"
      ],
      "text/plain": [
       "      credit_score       age    tenure   balance  num_of_products  \\\n",
       "7809     -0.744432  0.400729 -0.810507  1.123796        -0.936474   \n",
       "5279      0.009441  0.111996  0.792130  0.401011        -0.936474   \n",
       "3279      0.009441 -0.176737 -1.451562 -1.199501         0.798808   \n",
       "8984     -0.062849 -1.331668 -1.451562  1.578702        -0.936474   \n",
       "8466     -0.393313 -0.272981  1.433185  0.892225        -0.936474   \n",
       "\n",
       "      has_cr_card  is_active_member  estimated_salary  geography_Germany  \\\n",
       "7809     0.642724          0.966881          1.702726                  0   \n",
       "5279     0.642724          0.966881          0.422349                  0   \n",
       "3279     0.642724         -1.034253         -0.544388                  0   \n",
       "8984     0.642724         -1.034253         -0.997245                  0   \n",
       "8466    -1.555877         -1.034253         -0.292067                  0   \n",
       "\n",
       "      geography_Spain  gender_Male  \n",
       "7809                1            1  \n",
       "5279                1            0  \n",
       "3279                1            1  \n",
       "8984                0            1  \n",
       "8466                0            1  "
      ]
     },
     "execution_count": 17,
     "metadata": {},
     "output_type": "execute_result"
    }
   ],
   "source": [
    "features_train.head()"
   ]
  },
  {
   "cell_type": "code",
   "execution_count": 18,
   "metadata": {
    "scrolled": false
   },
   "outputs": [
    {
     "data": {
      "text/plain": [
       "(6000, 11)"
      ]
     },
     "execution_count": 18,
     "metadata": {},
     "output_type": "execute_result"
    }
   ],
   "source": [
    "features_train.shape"
   ]
  },
  {
   "cell_type": "markdown",
   "metadata": {},
   "source": [
    "**Исследуем баланс классов**"
   ]
  },
  {
   "cell_type": "code",
   "execution_count": 19,
   "metadata": {
    "scrolled": true
   },
   "outputs": [
    {
     "data": {
      "text/plain": [
       "0    0.7985\n",
       "1    0.2015\n",
       "Name: exited, dtype: float64"
      ]
     },
     "execution_count": 19,
     "metadata": {},
     "output_type": "execute_result"
    }
   ],
   "source": [
    "target_train.value_counts(normalize=True)"
   ]
  },
  {
   "cell_type": "markdown",
   "metadata": {},
   "source": [
    "**Видим крайне сильный дисбаланс классов, обучим модели без учета баланса и посмотрим на результаты**\n",
    "\n",
    "**Начнём с регрессии:**"
   ]
  },
  {
   "cell_type": "code",
   "execution_count": 20,
   "metadata": {},
   "outputs": [
    {
     "name": "stdout",
     "output_type": "stream",
     "text": [
      "0.3286219081272085\n",
      "0.7758674643350206\n"
     ]
    }
   ],
   "source": [
    "model = LogisticRegression(solver='liblinear')\n",
    "model.fit(features_train, target_train)\n",
    "predicted_valid = model.predict(features_valid)\n",
    "\n",
    "probabilities_valid = model.predict_proba(features_valid)\n",
    "probabilities_one_valid = probabilities_valid[:,1]\n",
    "\n",
    "print(f1_score(target_valid, predicted_valid))\n",
    "print(roc_auc_score(target_valid, probabilities_one_valid))"
   ]
  },
  {
   "cell_type": "markdown",
   "metadata": {},
   "source": [
    "**Довольно низкое значение f1, посмотрим древо решений:**"
   ]
  },
  {
   "cell_type": "code",
   "execution_count": 21,
   "metadata": {},
   "outputs": [
    {
     "name": "stdout",
     "output_type": "stream",
     "text": [
      "0.5930851063829788\n",
      "8\n",
      "0.8423853351741064\n"
     ]
    }
   ],
   "source": [
    "best_f1 = 0\n",
    "best_depth = 0\n",
    "best_auc_roc = 0\n",
    "\n",
    "for i in range(1,11):\n",
    "    model = DecisionTreeClassifier(random_state=0, max_depth=i)\n",
    "    model.fit(features_train, target_train)\n",
    "    predicted_valid = model.predict(features_valid)\n",
    "    \n",
    "    probabilities_valid = model.predict_proba(features_valid)\n",
    "    probabilities_one_valid = probabilities_valid[:,1]\n",
    "    \n",
    "    f1 = f1_score(target_valid, predicted_valid)\n",
    "    auc_roc = roc_auc_score(target_valid, probabilities_one_valid)\n",
    "    \n",
    "    if f1 > best_f1:\n",
    "        best_f1 = f1\n",
    "        best_depth = i\n",
    "        best_auc_roc = auc_roc\n",
    "        \n",
    "print(best_f1)\n",
    "print(best_depth)\n",
    "print(best_auc_roc)"
   ]
  },
  {
   "cell_type": "markdown",
   "metadata": {},
   "source": [
    "**Результат уже гораздо лучше, более того он предварительно проходит порог в 0.59. Auc_roc_score тоже довольно высокий. Далее обучим модель случайного леса:**"
   ]
  },
  {
   "cell_type": "code",
   "execution_count": 22,
   "metadata": {},
   "outputs": [
    {
     "name": "stdout",
     "output_type": "stream",
     "text": [
      "0.6289120715350224\n",
      "61\n",
      "12\n",
      "0.8683126246356803\n"
     ]
    }
   ],
   "source": [
    "best_f1 = 0\n",
    "best_est = 0\n",
    "best_depth = 0\n",
    "best_auc_roc = 0\n",
    "\n",
    "for i in range (1,15):\n",
    "    for j in range (1,101,10):\n",
    "        model = RandomForestClassifier(random_state=0, n_estimators=j, max_depth=i)\n",
    "        model.fit(features_train, target_train)\n",
    "        predicted_valid = model.predict(features_valid)\n",
    "        \n",
    "        probabilities_valid = model.predict_proba(features_valid)\n",
    "        probabilities_one_valid = probabilities_valid[:,1]\n",
    "    \n",
    "        auc_roc = roc_auc_score(target_valid, probabilities_one_valid)\n",
    "        f1 = f1_score(target_valid, predicted_valid)\n",
    "        \n",
    "        if f1 > best_f1:\n",
    "            best_f1 = f1\n",
    "            best_est = j\n",
    "            best_depth = i\n",
    "            best_auc_roc = auc_roc\n",
    "            \n",
    "print(best_f1)\n",
    "print(best_est)\n",
    "print(best_depth)\n",
    "print(best_auc_roc)"
   ]
  },
  {
   "cell_type": "markdown",
   "metadata": {},
   "source": [
    "**Результат получился еще лучше**"
   ]
  },
  {
   "cell_type": "markdown",
   "metadata": {},
   "source": [
    "## Борьба с дисбалансом"
   ]
  },
  {
   "cell_type": "code",
   "execution_count": 23,
   "metadata": {
    "scrolled": true
   },
   "outputs": [
    {
     "name": "stdout",
     "output_type": "stream",
     "text": [
      "0.5047372954349698\n",
      "0.7780947998159228\n"
     ]
    }
   ],
   "source": [
    "model = LogisticRegression(solver='liblinear', class_weight='balanced')\n",
    "model.fit(features_train, target_train)\n",
    "predicted_valid = model.predict(features_valid)\n",
    "\n",
    "probabilities_valid = model.predict_proba(features_valid)\n",
    "probabilities_one_valid = probabilities_valid[:,1]\n",
    "\n",
    "print(f1_score(target_valid, predicted_valid))\n",
    "print(roc_auc_score(target_valid, probabilities_one_valid))"
   ]
  },
  {
   "cell_type": "markdown",
   "metadata": {},
   "source": [
    "**Результат по обоим метрикам вырос: f1 значительно увеличился, auc_roc почти не изменился**"
   ]
  },
  {
   "cell_type": "code",
   "execution_count": 24,
   "metadata": {},
   "outputs": [
    {
     "name": "stdout",
     "output_type": "stream",
     "text": [
      "0.601145038167939\n",
      "7\n",
      "0.830377358490566\n"
     ]
    }
   ],
   "source": [
    "best_f1 = 0\n",
    "best_depth = 0\n",
    "best_auc_roc = 0\n",
    "\n",
    "for i in range(1,11):\n",
    "    model = DecisionTreeClassifier(random_state=0, max_depth=i, class_weight='balanced')\n",
    "    model.fit(features_train, target_train)\n",
    "    predicted_valid = model.predict(features_valid)\n",
    "    \n",
    "    probabilities_valid = model.predict_proba(features_valid)\n",
    "    probabilities_one_valid = probabilities_valid[:,1]\n",
    "    \n",
    "    f1 = f1_score(target_valid, predicted_valid)\n",
    "    auc_roc = roc_auc_score(target_valid, probabilities_one_valid)\n",
    "    \n",
    "    if f1 > best_f1:\n",
    "        best_f1 = f1\n",
    "        best_depth = i\n",
    "        best_auc_roc = auc_roc\n",
    "        \n",
    "print(best_f1)\n",
    "print(best_depth)\n",
    "print(best_auc_roc)"
   ]
  },
  {
   "cell_type": "markdown",
   "metadata": {},
   "source": [
    "**Результат почти не изменился: f1 незначительно увеличился, auc_roc незначительно уменьшился**"
   ]
  },
  {
   "cell_type": "code",
   "execution_count": 25,
   "metadata": {
    "scrolled": true
   },
   "outputs": [
    {
     "name": "stdout",
     "output_type": "stream",
     "text": [
      "0.6456140350877194\n",
      "21\n",
      "10\n",
      "0.8648887866237153\n"
     ]
    }
   ],
   "source": [
    "best_f1 = 0\n",
    "best_est = 0\n",
    "best_depth = 0\n",
    "best_auc_roc = 0\n",
    "\n",
    "for i in range (1,15):\n",
    "    for j in range (1,101,10):\n",
    "        model = RandomForestClassifier(random_state=0, n_estimators=j, max_depth=i, class_weight='balanced')\n",
    "        model.fit(features_train, target_train)\n",
    "        predicted_valid = model.predict(features_valid)\n",
    "        \n",
    "        probabilities_valid = model.predict_proba(features_valid)\n",
    "        probabilities_one_valid = probabilities_valid[:,1]\n",
    "    \n",
    "        auc_roc = roc_auc_score(target_valid, probabilities_one_valid)\n",
    "        f1 = f1_score(target_valid, predicted_valid)\n",
    "        \n",
    "        if f1 > best_f1:\n",
    "            best_f1 = f1\n",
    "            best_est = j\n",
    "            best_depth = i\n",
    "            best_auc_roc = auc_roc\n",
    "            \n",
    "print(best_f1)\n",
    "print(best_est)\n",
    "print(best_depth)\n",
    "print(best_auc_roc)"
   ]
  },
  {
   "cell_type": "markdown",
   "metadata": {},
   "source": [
    "**Балансировка веса классов вновь незначительно повлияла на результат. Модель случайного леса показала лучший результат. Посмотрим, улучшится ли результат если использовать метод апсемплинга вместо изменения веса классов.**"
   ]
  },
  {
   "cell_type": "code",
   "execution_count": 26,
   "metadata": {},
   "outputs": [],
   "source": [
    "def upsample(features, target):\n",
    "    \n",
    "    features_zeros = features_train[target_train == 0]\n",
    "    features_ones = features_train[target_train == 1]\n",
    "    target_zeros = target_train[target_train == 0]\n",
    "    target_ones = target_train[target_train == 1]\n",
    "    \n",
    "    features_upsampled = pd.concat([features_zeros] + [features_ones] * 4)\n",
    "    target_upsampled = pd.concat([target_zeros] + [target_ones] * 4)\n",
    "    \n",
    "    features_upsampled = shuffle(features_upsampled, random_state=0)\n",
    "    target_upsampled = shuffle(target_upsampled, random_state=0)\n",
    "    \n",
    "    return features_upsampled, target_upsampled\n",
    "\n",
    "features_upsampled, target_upsampled = upsample(features_train, target_train)"
   ]
  },
  {
   "cell_type": "code",
   "execution_count": 27,
   "metadata": {
    "scrolled": true
   },
   "outputs": [
    {
     "data": {
      "text/plain": [
       "1    4836\n",
       "0    4791\n",
       "Name: exited, dtype: int64"
      ]
     },
     "execution_count": 27,
     "metadata": {},
     "output_type": "execute_result"
    }
   ],
   "source": [
    "target_upsampled.value_counts()"
   ]
  },
  {
   "cell_type": "markdown",
   "metadata": {},
   "source": [
    "**Теперь, когда баланс классов близок к единице, проверим результаты модели еще раз:**"
   ]
  },
  {
   "cell_type": "code",
   "execution_count": 28,
   "metadata": {
    "scrolled": true
   },
   "outputs": [
    {
     "name": "stdout",
     "output_type": "stream",
     "text": [
      "0.6467991169977926\n",
      "91\n",
      "11\n",
      "0.876152784169351\n"
     ]
    }
   ],
   "source": [
    "best_f1 = 0\n",
    "best_est = 0\n",
    "best_depth = 0\n",
    "best_auc_roc = 0\n",
    "\n",
    "for i in range (1,15):\n",
    "    for j in range (1,101,10):\n",
    "        model = RandomForestClassifier(random_state=0, n_estimators=j, max_depth=i)\n",
    "        model.fit(features_upsampled, target_upsampled)\n",
    "        predicted_valid = model.predict(features_valid)\n",
    "        \n",
    "        probabilities_valid = model.predict_proba(features_valid)\n",
    "        probabilities_one_valid = probabilities_valid[:,1]\n",
    "    \n",
    "        auc_roc = roc_auc_score(target_valid, probabilities_one_valid)\n",
    "        f1 = f1_score(target_valid, predicted_valid)\n",
    "        \n",
    "        if f1 > best_f1:\n",
    "            best_f1 = f1\n",
    "            best_est = j\n",
    "            best_depth = i\n",
    "            best_auc_roc = auc_roc\n",
    "            \n",
    "print(best_f1)\n",
    "print(best_est)\n",
    "print(best_depth)\n",
    "print(best_auc_roc)"
   ]
  },
  {
   "cell_type": "markdown",
   "metadata": {},
   "source": [
    "**Результат практически идентичен результату аналогичной модели, но с балансом классов. Дополнительно проверим обе модели на тестовой выборке, может быть там будет явный лидер**"
   ]
  },
  {
   "cell_type": "markdown",
   "metadata": {},
   "source": [
    "## Тестирование модели"
   ]
  },
  {
   "cell_type": "code",
   "execution_count": 29,
   "metadata": {
    "scrolled": true
   },
   "outputs": [
    {
     "name": "stdout",
     "output_type": "stream",
     "text": [
      "0.6087962962962964\n",
      "0.8598822579376841\n"
     ]
    }
   ],
   "source": [
    "model = RandomForestClassifier (random_state=0, n_estimators=21, max_depth=10, class_weight='balanced')\n",
    "model.fit(features_train, target_train)\n",
    "predicted_test = model.predict(features_test)\n",
    "\n",
    "probabilities_test = model.predict_proba(features_test)\n",
    "probabilities_one_test = probabilities_test[:,1]\n",
    "\n",
    "print(f1_score(target_test, predicted_test))\n",
    "print(roc_auc_score(target_test, probabilities_one_test))"
   ]
  },
  {
   "cell_type": "code",
   "execution_count": 30,
   "metadata": {},
   "outputs": [
    {
     "name": "stdout",
     "output_type": "stream",
     "text": [
      "0.6051813471502591\n",
      "0.8555852624320254\n"
     ]
    }
   ],
   "source": [
    "model = RandomForestClassifier (random_state=0, n_estimators=21, max_depth=10)\n",
    "model.fit(features_upsampled, target_upsampled)\n",
    "predicted_test = model.predict(features_test)\n",
    "\n",
    "probabilities_test = model.predict_proba(features_test)\n",
    "probabilities_one_test = probabilities_test[:,1]\n",
    "\n",
    "print(f1_score(target_test, predicted_test))\n",
    "print(roc_auc_score(target_test, probabilities_one_test))"
   ]
  },
  {
   "cell_type": "markdown",
   "metadata": {},
   "source": [
    "**Как можно видеть, и при изменении веса классов, и при достижении их баланса результаты получаются практически одинаковыми. Модель случайного леса показала себя хорошо на тестовой выборке, порог пройден.**"
   ]
  }
 ],
 "metadata": {
  "ExecuteTimeLog": [
   {
    "duration": 585,
    "start_time": "2022-03-15T16:43:05.601Z"
   },
   {
    "duration": 24,
    "start_time": "2022-03-15T16:43:26.387Z"
   },
   {
    "duration": 36,
    "start_time": "2022-03-15T16:43:35.521Z"
   },
   {
    "duration": 9,
    "start_time": "2022-03-15T16:43:44.082Z"
   },
   {
    "duration": 379,
    "start_time": "2022-03-15T17:44:44.917Z"
   },
   {
    "duration": 3,
    "start_time": "2022-03-15T17:45:06.341Z"
   },
   {
    "duration": 22,
    "start_time": "2022-03-15T17:53:02.375Z"
   },
   {
    "duration": 6,
    "start_time": "2022-03-15T17:54:30.907Z"
   },
   {
    "duration": 5,
    "start_time": "2022-03-15T17:54:37.403Z"
   },
   {
    "duration": 864,
    "start_time": "2022-03-15T17:55:00.450Z"
   },
   {
    "duration": 4,
    "start_time": "2022-03-15T17:56:50.837Z"
   },
   {
    "duration": 4,
    "start_time": "2022-03-15T17:56:53.988Z"
   },
   {
    "duration": 5,
    "start_time": "2022-03-15T18:01:29.791Z"
   },
   {
    "duration": 6,
    "start_time": "2022-03-15T18:01:30.712Z"
   },
   {
    "duration": 5,
    "start_time": "2022-03-15T19:08:49.284Z"
   },
   {
    "duration": 11,
    "start_time": "2022-03-15T19:08:58.930Z"
   },
   {
    "duration": 11,
    "start_time": "2022-03-15T19:09:23.802Z"
   },
   {
    "duration": 447,
    "start_time": "2022-03-29T11:16:33.519Z"
   },
   {
    "duration": 59,
    "start_time": "2022-03-29T11:16:33.968Z"
   },
   {
    "duration": 20,
    "start_time": "2022-03-29T11:16:34.029Z"
   },
   {
    "duration": 9,
    "start_time": "2022-03-29T11:16:34.051Z"
   },
   {
    "duration": 6,
    "start_time": "2022-03-29T11:16:34.062Z"
   },
   {
    "duration": 14,
    "start_time": "2022-03-29T11:16:34.069Z"
   },
   {
    "duration": 7,
    "start_time": "2022-03-29T11:16:34.084Z"
   },
   {
    "duration": 16,
    "start_time": "2022-03-29T11:16:34.093Z"
   },
   {
    "duration": 6,
    "start_time": "2022-03-29T11:23:37.288Z"
   },
   {
    "duration": 169,
    "start_time": "2022-03-29T11:26:28.615Z"
   },
   {
    "duration": 803,
    "start_time": "2022-03-29T11:27:01.333Z"
   },
   {
    "duration": 199,
    "start_time": "2022-03-29T11:27:09.517Z"
   },
   {
    "duration": 114,
    "start_time": "2022-03-29T11:27:14.317Z"
   },
   {
    "duration": 8,
    "start_time": "2022-03-29T11:27:20.981Z"
   },
   {
    "duration": 1145,
    "start_time": "2022-03-29T13:24:22.567Z"
   },
   {
    "duration": 48,
    "start_time": "2022-03-29T13:24:23.714Z"
   },
   {
    "duration": 15,
    "start_time": "2022-03-29T13:24:23.763Z"
   },
   {
    "duration": 4,
    "start_time": "2022-03-29T13:24:23.781Z"
   },
   {
    "duration": 7,
    "start_time": "2022-03-29T13:24:23.787Z"
   },
   {
    "duration": 7,
    "start_time": "2022-03-29T13:24:23.795Z"
   },
   {
    "duration": 6,
    "start_time": "2022-03-29T13:24:23.804Z"
   },
   {
    "duration": 30,
    "start_time": "2022-03-29T13:24:23.811Z"
   },
   {
    "duration": 9,
    "start_time": "2022-03-29T13:24:23.842Z"
   },
   {
    "duration": 10,
    "start_time": "2022-03-29T13:24:23.853Z"
   },
   {
    "duration": 18,
    "start_time": "2022-03-29T13:25:01.174Z"
   },
   {
    "duration": 15,
    "start_time": "2022-03-29T13:25:03.343Z"
   },
   {
    "duration": 15,
    "start_time": "2022-03-29T13:25:04.022Z"
   },
   {
    "duration": 5,
    "start_time": "2022-03-29T13:25:04.863Z"
   },
   {
    "duration": 11,
    "start_time": "2022-03-29T13:25:05.483Z"
   },
   {
    "duration": 6,
    "start_time": "2022-03-29T13:25:41.052Z"
   },
   {
    "duration": 9,
    "start_time": "2022-03-29T13:25:43.397Z"
   },
   {
    "duration": 3,
    "start_time": "2022-03-29T13:26:27.851Z"
   },
   {
    "duration": 2,
    "start_time": "2022-03-29T13:29:46.448Z"
   },
   {
    "duration": 35,
    "start_time": "2022-03-29T13:32:00.844Z"
   },
   {
    "duration": 13,
    "start_time": "2022-03-29T13:33:07.209Z"
   },
   {
    "duration": 5,
    "start_time": "2022-03-29T13:40:01.389Z"
   },
   {
    "duration": 6,
    "start_time": "2022-03-29T13:49:02.659Z"
   },
   {
    "duration": 11,
    "start_time": "2022-03-29T13:50:36.039Z"
   },
   {
    "duration": 1214,
    "start_time": "2022-03-29T17:20:25.635Z"
   },
   {
    "duration": 43,
    "start_time": "2022-03-29T17:20:26.851Z"
   },
   {
    "duration": 13,
    "start_time": "2022-03-29T17:20:26.895Z"
   },
   {
    "duration": 3,
    "start_time": "2022-03-29T17:20:26.910Z"
   },
   {
    "duration": 5,
    "start_time": "2022-03-29T17:20:26.915Z"
   },
   {
    "duration": 6,
    "start_time": "2022-03-29T17:20:26.922Z"
   },
   {
    "duration": 5,
    "start_time": "2022-03-29T17:20:26.930Z"
   },
   {
    "duration": 11,
    "start_time": "2022-03-29T17:20:26.937Z"
   },
   {
    "duration": 13,
    "start_time": "2022-03-29T17:20:26.950Z"
   },
   {
    "duration": 38,
    "start_time": "2022-03-29T17:20:26.965Z"
   },
   {
    "duration": 7,
    "start_time": "2022-03-29T17:20:27.004Z"
   },
   {
    "duration": 2,
    "start_time": "2022-03-29T17:20:27.013Z"
   },
   {
    "duration": 34,
    "start_time": "2022-03-29T17:20:27.017Z"
   },
   {
    "duration": 11,
    "start_time": "2022-03-29T17:20:27.052Z"
   },
   {
    "duration": 6,
    "start_time": "2022-03-29T17:20:27.065Z"
   },
   {
    "duration": 32,
    "start_time": "2022-03-29T17:20:27.072Z"
   },
   {
    "duration": 42,
    "start_time": "2022-03-29T17:29:42.945Z"
   },
   {
    "duration": 3,
    "start_time": "2022-03-29T17:34:25.654Z"
   },
   {
    "duration": 105,
    "start_time": "2022-03-29T17:35:28.939Z"
   },
   {
    "duration": 5,
    "start_time": "2022-03-29T17:36:52.535Z"
   },
   {
    "duration": 4,
    "start_time": "2022-03-29T17:38:44.787Z"
   },
   {
    "duration": 6,
    "start_time": "2022-03-29T17:38:52.353Z"
   },
   {
    "duration": 4,
    "start_time": "2022-03-29T17:39:48.998Z"
   },
   {
    "duration": 60,
    "start_time": "2022-03-29T17:39:49.005Z"
   },
   {
    "duration": 13,
    "start_time": "2022-03-29T17:39:49.067Z"
   },
   {
    "duration": 3864,
    "start_time": "2022-03-29T17:39:49.082Z"
   },
   {
    "duration": 0,
    "start_time": "2022-03-29T17:39:52.947Z"
   },
   {
    "duration": 0,
    "start_time": "2022-03-29T17:39:52.949Z"
   },
   {
    "duration": 0,
    "start_time": "2022-03-29T17:39:52.950Z"
   },
   {
    "duration": 0,
    "start_time": "2022-03-29T17:39:52.951Z"
   },
   {
    "duration": 0,
    "start_time": "2022-03-29T17:39:52.951Z"
   },
   {
    "duration": 0,
    "start_time": "2022-03-29T17:39:52.952Z"
   },
   {
    "duration": 0,
    "start_time": "2022-03-29T17:39:52.953Z"
   },
   {
    "duration": 0,
    "start_time": "2022-03-29T17:39:52.954Z"
   },
   {
    "duration": 0,
    "start_time": "2022-03-29T17:39:52.955Z"
   },
   {
    "duration": 0,
    "start_time": "2022-03-29T17:39:52.956Z"
   },
   {
    "duration": 0,
    "start_time": "2022-03-29T17:39:52.957Z"
   },
   {
    "duration": 1,
    "start_time": "2022-03-29T17:39:52.957Z"
   },
   {
    "duration": 0,
    "start_time": "2022-03-29T17:39:52.959Z"
   },
   {
    "duration": 0,
    "start_time": "2022-03-29T17:39:52.960Z"
   },
   {
    "duration": 0,
    "start_time": "2022-03-29T17:39:52.961Z"
   },
   {
    "duration": 0,
    "start_time": "2022-03-29T17:39:52.961Z"
   },
   {
    "duration": 15,
    "start_time": "2022-03-29T17:39:59.374Z"
   },
   {
    "duration": 5601,
    "start_time": "2022-03-29T17:40:32.189Z"
   },
   {
    "duration": 12,
    "start_time": "2022-03-29T17:40:53.519Z"
   },
   {
    "duration": 5,
    "start_time": "2022-03-29T17:40:53.533Z"
   },
   {
    "duration": 3993,
    "start_time": "2022-03-29T17:40:53.539Z"
   },
   {
    "duration": 0,
    "start_time": "2022-03-29T17:40:57.535Z"
   },
   {
    "duration": 0,
    "start_time": "2022-03-29T17:40:57.536Z"
   },
   {
    "duration": 0,
    "start_time": "2022-03-29T17:40:57.537Z"
   },
   {
    "duration": 0,
    "start_time": "2022-03-29T17:40:57.538Z"
   },
   {
    "duration": 0,
    "start_time": "2022-03-29T17:40:57.540Z"
   },
   {
    "duration": 0,
    "start_time": "2022-03-29T17:40:57.541Z"
   },
   {
    "duration": 0,
    "start_time": "2022-03-29T17:40:57.542Z"
   },
   {
    "duration": 0,
    "start_time": "2022-03-29T17:40:57.544Z"
   },
   {
    "duration": 0,
    "start_time": "2022-03-29T17:40:57.545Z"
   },
   {
    "duration": 0,
    "start_time": "2022-03-29T17:40:57.546Z"
   },
   {
    "duration": 0,
    "start_time": "2022-03-29T17:40:57.547Z"
   },
   {
    "duration": 0,
    "start_time": "2022-03-29T17:40:57.549Z"
   },
   {
    "duration": 0,
    "start_time": "2022-03-29T17:40:57.550Z"
   },
   {
    "duration": 0,
    "start_time": "2022-03-29T17:40:57.551Z"
   },
   {
    "duration": 0,
    "start_time": "2022-03-29T17:40:57.553Z"
   },
   {
    "duration": 4,
    "start_time": "2022-03-29T17:41:09.116Z"
   },
   {
    "duration": 8,
    "start_time": "2022-03-29T17:41:09.122Z"
   },
   {
    "duration": 3,
    "start_time": "2022-03-29T17:41:09.132Z"
   },
   {
    "duration": 6,
    "start_time": "2022-03-29T17:41:09.137Z"
   },
   {
    "duration": 4,
    "start_time": "2022-03-29T17:41:09.146Z"
   },
   {
    "duration": 5,
    "start_time": "2022-03-29T17:41:09.152Z"
   },
   {
    "duration": 17,
    "start_time": "2022-03-29T17:41:09.158Z"
   },
   {
    "duration": 31,
    "start_time": "2022-03-29T17:41:09.177Z"
   },
   {
    "duration": 5,
    "start_time": "2022-03-29T17:41:09.210Z"
   },
   {
    "duration": 12,
    "start_time": "2022-03-29T17:41:09.216Z"
   },
   {
    "duration": 4,
    "start_time": "2022-03-29T17:41:09.229Z"
   },
   {
    "duration": 36,
    "start_time": "2022-03-29T17:41:09.235Z"
   },
   {
    "duration": 12,
    "start_time": "2022-03-29T17:41:09.272Z"
   },
   {
    "duration": 4,
    "start_time": "2022-03-29T17:41:09.302Z"
   },
   {
    "duration": 7,
    "start_time": "2022-03-29T17:41:09.307Z"
   },
   {
    "duration": 184,
    "start_time": "2022-03-29T17:41:09.316Z"
   },
   {
    "duration": 4,
    "start_time": "2022-03-29T18:00:25.566Z"
   },
   {
    "duration": 58,
    "start_time": "2022-03-29T18:00:39.757Z"
   },
   {
    "duration": 1765,
    "start_time": "2022-03-29T18:16:52.675Z"
   },
   {
    "duration": 59,
    "start_time": "2022-03-29T18:16:54.443Z"
   },
   {
    "duration": 19,
    "start_time": "2022-03-29T18:16:54.504Z"
   },
   {
    "duration": 8,
    "start_time": "2022-03-29T18:16:54.527Z"
   },
   {
    "duration": 7,
    "start_time": "2022-03-29T18:16:54.568Z"
   },
   {
    "duration": 9,
    "start_time": "2022-03-29T18:16:54.577Z"
   },
   {
    "duration": 5,
    "start_time": "2022-03-29T18:16:54.588Z"
   },
   {
    "duration": 8,
    "start_time": "2022-03-29T18:16:54.596Z"
   },
   {
    "duration": 9,
    "start_time": "2022-03-29T18:16:54.606Z"
   },
   {
    "duration": 6,
    "start_time": "2022-03-29T18:16:54.618Z"
   },
   {
    "duration": 59,
    "start_time": "2022-03-29T18:16:54.626Z"
   },
   {
    "duration": 16,
    "start_time": "2022-03-29T18:16:54.687Z"
   },
   {
    "duration": 7,
    "start_time": "2022-03-29T18:16:54.706Z"
   },
   {
    "duration": 10,
    "start_time": "2022-03-29T18:16:54.715Z"
   },
   {
    "duration": 5,
    "start_time": "2022-03-29T18:16:54.768Z"
   },
   {
    "duration": 84,
    "start_time": "2022-03-29T18:16:54.776Z"
   },
   {
    "duration": 26,
    "start_time": "2022-03-29T18:16:54.867Z"
   },
   {
    "duration": 6,
    "start_time": "2022-03-29T18:16:54.896Z"
   },
   {
    "duration": 15,
    "start_time": "2022-03-29T18:16:54.905Z"
   },
   {
    "duration": 117,
    "start_time": "2022-03-29T18:16:54.923Z"
   },
   {
    "duration": 0,
    "start_time": "2022-03-29T18:16:55.043Z"
   },
   {
    "duration": 66,
    "start_time": "2022-03-29T18:17:06.905Z"
   },
   {
    "duration": 33,
    "start_time": "2022-03-29T18:17:16.457Z"
   },
   {
    "duration": 32,
    "start_time": "2022-03-29T18:17:21.810Z"
   },
   {
    "duration": 88,
    "start_time": "2022-03-29T18:17:26.881Z"
   },
   {
    "duration": 49,
    "start_time": "2022-03-29T18:18:15.239Z"
   },
   {
    "duration": 5,
    "start_time": "2022-03-29T18:19:28.788Z"
   },
   {
    "duration": 141,
    "start_time": "2022-03-29T18:23:31.449Z"
   },
   {
    "duration": 227,
    "start_time": "2022-03-29T18:23:40.105Z"
   },
   {
    "duration": 47916,
    "start_time": "2022-03-29T19:06:32.580Z"
   },
   {
    "duration": 41,
    "start_time": "2022-03-29T19:16:28.441Z"
   },
   {
    "duration": 276,
    "start_time": "2022-03-29T19:25:47.145Z"
   },
   {
    "duration": 278,
    "start_time": "2022-03-29T19:25:58.343Z"
   },
   {
    "duration": 46025,
    "start_time": "2022-03-29T19:27:50.259Z"
   },
   {
    "duration": 78,
    "start_time": "2022-03-29T19:31:56.791Z"
   },
   {
    "duration": 286,
    "start_time": "2022-03-29T19:33:22.004Z"
   },
   {
    "duration": 46929,
    "start_time": "2022-03-29T19:34:52.192Z"
   },
   {
    "duration": 193,
    "start_time": "2022-03-29T19:41:00.934Z"
   },
   {
    "duration": 1593,
    "start_time": "2022-03-29T19:57:04.425Z"
   },
   {
    "duration": 69,
    "start_time": "2022-03-29T19:57:06.021Z"
   },
   {
    "duration": 17,
    "start_time": "2022-03-29T19:57:06.092Z"
   },
   {
    "duration": 7,
    "start_time": "2022-03-29T19:57:06.112Z"
   },
   {
    "duration": 22,
    "start_time": "2022-03-29T19:57:06.121Z"
   },
   {
    "duration": 8,
    "start_time": "2022-03-29T19:57:06.145Z"
   },
   {
    "duration": 6,
    "start_time": "2022-03-29T19:57:06.155Z"
   },
   {
    "duration": 8,
    "start_time": "2022-03-29T19:57:06.163Z"
   },
   {
    "duration": 9,
    "start_time": "2022-03-29T19:57:06.173Z"
   },
   {
    "duration": 8,
    "start_time": "2022-03-29T19:57:06.186Z"
   },
   {
    "duration": 52,
    "start_time": "2022-03-29T19:57:06.196Z"
   },
   {
    "duration": 20,
    "start_time": "2022-03-29T19:57:06.250Z"
   },
   {
    "duration": 7,
    "start_time": "2022-03-29T19:57:06.273Z"
   },
   {
    "duration": 10,
    "start_time": "2022-03-29T19:57:06.283Z"
   },
   {
    "duration": 4,
    "start_time": "2022-03-29T19:57:06.295Z"
   },
   {
    "duration": 73,
    "start_time": "2022-03-29T19:57:06.301Z"
   },
   {
    "duration": 17,
    "start_time": "2022-03-29T19:57:06.376Z"
   },
   {
    "duration": 7,
    "start_time": "2022-03-29T19:57:06.395Z"
   },
   {
    "duration": 12,
    "start_time": "2022-03-29T19:57:06.404Z"
   },
   {
    "duration": 104,
    "start_time": "2022-03-29T19:57:06.443Z"
   },
   {
    "duration": 373,
    "start_time": "2022-03-29T19:57:06.549Z"
   },
   {
    "duration": 45688,
    "start_time": "2022-03-29T19:57:06.924Z"
   },
   {
    "duration": 136,
    "start_time": "2022-03-29T19:57:52.615Z"
   },
   {
    "duration": 495,
    "start_time": "2022-03-29T19:57:52.753Z"
   },
   {
    "duration": 49579,
    "start_time": "2022-03-29T19:57:53.250Z"
   },
   {
    "duration": 202,
    "start_time": "2022-03-29T19:58:42.831Z"
   },
   {
    "duration": 156,
    "start_time": "2022-03-29T20:16:22.211Z"
   },
   {
    "duration": 5,
    "start_time": "2022-03-29T20:16:49.602Z"
   },
   {
    "duration": 16,
    "start_time": "2022-03-29T20:16:57.275Z"
   },
   {
    "duration": 8,
    "start_time": "2022-03-29T20:17:47.714Z"
   },
   {
    "duration": 62491,
    "start_time": "2022-03-29T20:18:28.399Z"
   },
   {
    "duration": 61183,
    "start_time": "2022-03-29T20:23:04.337Z"
   },
   {
    "duration": 266,
    "start_time": "2022-03-29T20:24:05.523Z"
   },
   {
    "duration": 6,
    "start_time": "2022-03-29T20:30:33.762Z"
   },
   {
    "duration": 62,
    "start_time": "2022-03-29T20:30:33.771Z"
   },
   {
    "duration": 22,
    "start_time": "2022-03-29T20:30:33.836Z"
   },
   {
    "duration": 7,
    "start_time": "2022-03-29T20:30:33.861Z"
   },
   {
    "duration": 7,
    "start_time": "2022-03-29T20:30:33.871Z"
   },
   {
    "duration": 5,
    "start_time": "2022-03-29T20:30:33.880Z"
   },
   {
    "duration": 8,
    "start_time": "2022-03-29T20:30:33.886Z"
   },
   {
    "duration": 54,
    "start_time": "2022-03-29T20:30:33.896Z"
   },
   {
    "duration": 7,
    "start_time": "2022-03-29T20:30:33.952Z"
   },
   {
    "duration": 16,
    "start_time": "2022-03-29T20:30:33.962Z"
   },
   {
    "duration": 16,
    "start_time": "2022-03-29T20:30:33.980Z"
   },
   {
    "duration": 45,
    "start_time": "2022-03-29T20:30:33.998Z"
   },
   {
    "duration": 10,
    "start_time": "2022-03-29T20:30:34.045Z"
   },
   {
    "duration": 4,
    "start_time": "2022-03-29T20:30:34.057Z"
   },
   {
    "duration": 44,
    "start_time": "2022-03-29T20:30:34.063Z"
   },
   {
    "duration": 48,
    "start_time": "2022-03-29T20:30:34.109Z"
   },
   {
    "duration": 7,
    "start_time": "2022-03-29T20:30:34.159Z"
   },
   {
    "duration": 8,
    "start_time": "2022-03-29T20:30:34.168Z"
   },
   {
    "duration": 66,
    "start_time": "2022-03-29T20:30:34.178Z"
   },
   {
    "duration": 0,
    "start_time": "2022-03-29T20:30:34.248Z"
   },
   {
    "duration": 0,
    "start_time": "2022-03-29T20:30:34.249Z"
   },
   {
    "duration": 0,
    "start_time": "2022-03-29T20:30:34.250Z"
   },
   {
    "duration": 0,
    "start_time": "2022-03-29T20:30:34.252Z"
   },
   {
    "duration": 0,
    "start_time": "2022-03-29T20:30:34.254Z"
   },
   {
    "duration": 0,
    "start_time": "2022-03-29T20:30:34.256Z"
   },
   {
    "duration": 0,
    "start_time": "2022-03-29T20:30:34.257Z"
   },
   {
    "duration": 0,
    "start_time": "2022-03-29T20:30:34.259Z"
   },
   {
    "duration": 0,
    "start_time": "2022-03-29T20:30:34.260Z"
   },
   {
    "duration": 0,
    "start_time": "2022-03-29T20:30:34.262Z"
   },
   {
    "duration": 3967,
    "start_time": "2022-03-29T20:30:57.357Z"
   },
   {
    "duration": 4,
    "start_time": "2022-03-29T20:31:06.148Z"
   },
   {
    "duration": 56,
    "start_time": "2022-03-29T20:31:06.156Z"
   },
   {
    "duration": 39,
    "start_time": "2022-03-29T20:31:06.214Z"
   },
   {
    "duration": 16,
    "start_time": "2022-03-29T20:31:06.256Z"
   },
   {
    "duration": 5,
    "start_time": "2022-03-29T20:31:06.276Z"
   },
   {
    "duration": 9,
    "start_time": "2022-03-29T20:31:06.284Z"
   },
   {
    "duration": 4,
    "start_time": "2022-03-29T20:31:06.296Z"
   },
   {
    "duration": 47,
    "start_time": "2022-03-29T20:31:06.303Z"
   },
   {
    "duration": 7,
    "start_time": "2022-03-29T20:31:06.352Z"
   },
   {
    "duration": 7,
    "start_time": "2022-03-29T20:31:06.362Z"
   },
   {
    "duration": 26,
    "start_time": "2022-03-29T20:31:06.372Z"
   },
   {
    "duration": 50,
    "start_time": "2022-03-29T20:31:06.400Z"
   },
   {
    "duration": 11,
    "start_time": "2022-03-29T20:31:06.455Z"
   },
   {
    "duration": 14,
    "start_time": "2022-03-29T20:31:06.468Z"
   },
   {
    "duration": 4,
    "start_time": "2022-03-29T20:31:06.484Z"
   },
   {
    "duration": 80,
    "start_time": "2022-03-29T20:31:06.490Z"
   },
   {
    "duration": 17,
    "start_time": "2022-03-29T20:31:06.572Z"
   },
   {
    "duration": 8,
    "start_time": "2022-03-29T20:31:06.591Z"
   },
   {
    "duration": 9,
    "start_time": "2022-03-29T20:31:06.601Z"
   },
   {
    "duration": 142,
    "start_time": "2022-03-29T20:31:06.612Z"
   },
   {
    "duration": 382,
    "start_time": "2022-03-29T20:31:06.760Z"
   },
   {
    "duration": 1959,
    "start_time": "2022-03-29T20:31:23.160Z"
   },
   {
    "duration": 65,
    "start_time": "2022-03-29T20:31:25.122Z"
   },
   {
    "duration": 25,
    "start_time": "2022-03-29T20:31:25.190Z"
   },
   {
    "duration": 28,
    "start_time": "2022-03-29T20:31:25.218Z"
   },
   {
    "duration": 7,
    "start_time": "2022-03-29T20:31:25.251Z"
   },
   {
    "duration": 12,
    "start_time": "2022-03-29T20:31:25.260Z"
   },
   {
    "duration": 5,
    "start_time": "2022-03-29T20:31:25.275Z"
   },
   {
    "duration": 7,
    "start_time": "2022-03-29T20:31:25.282Z"
   },
   {
    "duration": 10,
    "start_time": "2022-03-29T20:31:25.291Z"
   },
   {
    "duration": 51,
    "start_time": "2022-03-29T20:31:25.303Z"
   },
   {
    "duration": 30,
    "start_time": "2022-03-29T20:31:25.357Z"
   },
   {
    "duration": 20,
    "start_time": "2022-03-29T20:31:25.390Z"
   },
   {
    "duration": 7,
    "start_time": "2022-03-29T20:31:25.413Z"
   },
   {
    "duration": 14,
    "start_time": "2022-03-29T20:31:25.447Z"
   },
   {
    "duration": 4,
    "start_time": "2022-03-29T20:31:25.467Z"
   },
   {
    "duration": 84,
    "start_time": "2022-03-29T20:31:25.474Z"
   },
   {
    "duration": 19,
    "start_time": "2022-03-29T20:31:25.560Z"
   },
   {
    "duration": 7,
    "start_time": "2022-03-29T20:31:25.581Z"
   },
   {
    "duration": 17,
    "start_time": "2022-03-29T20:31:25.590Z"
   },
   {
    "duration": 235,
    "start_time": "2022-03-29T20:31:25.609Z"
   },
   {
    "duration": 412,
    "start_time": "2022-03-29T20:31:25.850Z"
   },
   {
    "duration": 57878,
    "start_time": "2022-03-29T20:31:26.265Z"
   },
   {
    "duration": 199,
    "start_time": "2022-03-29T20:32:24.145Z"
   },
   {
    "duration": 444,
    "start_time": "2022-03-29T20:32:24.347Z"
   },
   {
    "duration": 55712,
    "start_time": "2022-03-29T20:32:24.793Z"
   },
   {
    "duration": 15,
    "start_time": "2022-03-29T20:33:20.507Z"
   },
   {
    "duration": 20,
    "start_time": "2022-03-29T20:33:20.524Z"
   },
   {
    "duration": 65648,
    "start_time": "2022-03-29T20:33:20.546Z"
   },
   {
    "duration": 208,
    "start_time": "2022-03-29T20:34:26.196Z"
   },
   {
    "duration": 276,
    "start_time": "2022-03-29T20:34:26.406Z"
   }
  ],
  "kernelspec": {
   "display_name": "Python 3 (ipykernel)",
   "language": "python",
   "name": "python3"
  },
  "language_info": {
   "codemirror_mode": {
    "name": "ipython",
    "version": 3
   },
   "file_extension": ".py",
   "mimetype": "text/x-python",
   "name": "python",
   "nbconvert_exporter": "python",
   "pygments_lexer": "ipython3",
   "version": "3.9.7"
  },
  "toc": {
   "base_numbering": 1,
   "nav_menu": {},
   "number_sections": true,
   "sideBar": true,
   "skip_h1_title": true,
   "title_cell": "Содержание",
   "title_sidebar": "Contents",
   "toc_cell": true,
   "toc_position": {},
   "toc_section_display": true,
   "toc_window_display": false
  }
 },
 "nbformat": 4,
 "nbformat_minor": 2
}
